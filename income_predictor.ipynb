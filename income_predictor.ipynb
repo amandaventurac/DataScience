{
  "nbformat": 4,
  "nbformat_minor": 0,
  "metadata": {
    "colab": {
      "name": "income_predictor.ipynb",
      "provenance": [],
      "collapsed_sections": [],
      "toc_visible": true,
      "authorship_tag": "ABX9TyPI8SdFrz85eYIvhXfjNML3",
      "include_colab_link": true
    },
    "kernelspec": {
      "name": "python3",
      "display_name": "Python 3"
    },
    "widgets": {
      "application/vnd.jupyter.widget-state+json": {
        "26709b0b4b9a40ccb57f961ce88b67d2": {
          "model_module": "@jupyter-widgets/controls",
          "model_name": "HBoxModel",
          "state": {
            "_view_name": "HBoxView",
            "_dom_classes": [],
            "_model_name": "HBoxModel",
            "_view_module": "@jupyter-widgets/controls",
            "_model_module_version": "1.5.0",
            "_view_count": null,
            "_view_module_version": "1.5.0",
            "box_style": "",
            "layout": "IPY_MODEL_2d889760ad5a4631af521b9fd1d203e9",
            "_model_module": "@jupyter-widgets/controls",
            "children": [
              "IPY_MODEL_a28cf188c436480a876c514bf92b8c68",
              "IPY_MODEL_e230f66f3caa495ab297c8bccdea65d4",
              "IPY_MODEL_f5fd35fa00d34ace9fcb6a8c1830cc2a"
            ]
          }
        },
        "2d889760ad5a4631af521b9fd1d203e9": {
          "model_module": "@jupyter-widgets/base",
          "model_name": "LayoutModel",
          "state": {
            "_view_name": "LayoutView",
            "grid_template_rows": null,
            "right": null,
            "justify_content": null,
            "_view_module": "@jupyter-widgets/base",
            "overflow": null,
            "_model_module_version": "1.2.0",
            "_view_count": null,
            "flex_flow": "row wrap",
            "width": "100%",
            "min_width": null,
            "border": null,
            "align_items": null,
            "bottom": null,
            "_model_module": "@jupyter-widgets/base",
            "top": null,
            "grid_column": null,
            "overflow_y": null,
            "overflow_x": null,
            "grid_auto_flow": null,
            "grid_area": null,
            "grid_template_columns": null,
            "flex": null,
            "_model_name": "LayoutModel",
            "justify_items": null,
            "grid_row": null,
            "max_height": null,
            "align_content": null,
            "visibility": null,
            "align_self": null,
            "height": null,
            "min_height": null,
            "padding": null,
            "grid_auto_rows": null,
            "grid_gap": null,
            "max_width": null,
            "order": null,
            "_view_module_version": "1.2.0",
            "grid_template_areas": null,
            "object_position": null,
            "object_fit": null,
            "grid_auto_columns": null,
            "margin": null,
            "display": "inline-flex",
            "left": null
          }
        },
        "a28cf188c436480a876c514bf92b8c68": {
          "model_module": "@jupyter-widgets/controls",
          "model_name": "HTMLModel",
          "state": {
            "_view_name": "HTMLView",
            "style": "IPY_MODEL_c219afa9d1d34f579571335a4b9d08e3",
            "_dom_classes": [],
            "description": "",
            "_model_name": "HTMLModel",
            "placeholder": "​",
            "_view_module": "@jupyter-widgets/controls",
            "_model_module_version": "1.5.0",
            "value": "Done! Use &#x27;show&#x27; commands to display/save.   ",
            "_view_count": null,
            "_view_module_version": "1.5.0",
            "description_tooltip": null,
            "_model_module": "@jupyter-widgets/controls",
            "layout": "IPY_MODEL_ee12a6759bc244ef9c0b917113df1dd0"
          }
        },
        "e230f66f3caa495ab297c8bccdea65d4": {
          "model_module": "@jupyter-widgets/controls",
          "model_name": "FloatProgressModel",
          "state": {
            "_view_name": "ProgressView",
            "style": "IPY_MODEL_72dcb4c6c2c54042aefeb444a0973b99",
            "_dom_classes": [],
            "description": "",
            "_model_name": "FloatProgressModel",
            "bar_style": "success",
            "max": 1,
            "_view_module": "@jupyter-widgets/controls",
            "_model_module_version": "1.5.0",
            "value": 1,
            "_view_count": null,
            "_view_module_version": "1.5.0",
            "orientation": "horizontal",
            "min": 0,
            "description_tooltip": null,
            "_model_module": "@jupyter-widgets/controls",
            "layout": "IPY_MODEL_2118f42ce1b54acb856dc6db7e93ae86"
          }
        },
        "f5fd35fa00d34ace9fcb6a8c1830cc2a": {
          "model_module": "@jupyter-widgets/controls",
          "model_name": "HTMLModel",
          "state": {
            "_view_name": "HTMLView",
            "style": "IPY_MODEL_69be6653e8fd4fa181ef09db42ae24ad",
            "_dom_classes": [],
            "description": "",
            "_model_name": "HTMLModel",
            "placeholder": "​",
            "_view_module": "@jupyter-widgets/controls",
            "_model_module_version": "1.5.0",
            "value": " [100%]   00:00 -&gt; (00:00 left)",
            "_view_count": null,
            "_view_module_version": "1.5.0",
            "description_tooltip": null,
            "_model_module": "@jupyter-widgets/controls",
            "layout": "IPY_MODEL_24fba01b217a4fb5a84074e4cb717325"
          }
        },
        "c219afa9d1d34f579571335a4b9d08e3": {
          "model_module": "@jupyter-widgets/controls",
          "model_name": "DescriptionStyleModel",
          "state": {
            "_view_name": "StyleView",
            "_model_name": "DescriptionStyleModel",
            "description_width": "",
            "_view_module": "@jupyter-widgets/base",
            "_model_module_version": "1.5.0",
            "_view_count": null,
            "_view_module_version": "1.2.0",
            "_model_module": "@jupyter-widgets/controls"
          }
        },
        "ee12a6759bc244ef9c0b917113df1dd0": {
          "model_module": "@jupyter-widgets/base",
          "model_name": "LayoutModel",
          "state": {
            "_view_name": "LayoutView",
            "grid_template_rows": null,
            "right": null,
            "justify_content": null,
            "_view_module": "@jupyter-widgets/base",
            "overflow": null,
            "_model_module_version": "1.2.0",
            "_view_count": null,
            "flex_flow": null,
            "width": null,
            "min_width": null,
            "border": null,
            "align_items": null,
            "bottom": null,
            "_model_module": "@jupyter-widgets/base",
            "top": null,
            "grid_column": null,
            "overflow_y": null,
            "overflow_x": null,
            "grid_auto_flow": null,
            "grid_area": null,
            "grid_template_columns": null,
            "flex": null,
            "_model_name": "LayoutModel",
            "justify_items": null,
            "grid_row": null,
            "max_height": null,
            "align_content": null,
            "visibility": null,
            "align_self": null,
            "height": null,
            "min_height": null,
            "padding": null,
            "grid_auto_rows": null,
            "grid_gap": null,
            "max_width": null,
            "order": null,
            "_view_module_version": "1.2.0",
            "grid_template_areas": null,
            "object_position": null,
            "object_fit": null,
            "grid_auto_columns": null,
            "margin": null,
            "display": null,
            "left": null
          }
        },
        "72dcb4c6c2c54042aefeb444a0973b99": {
          "model_module": "@jupyter-widgets/controls",
          "model_name": "ProgressStyleModel",
          "state": {
            "_view_name": "StyleView",
            "_model_name": "ProgressStyleModel",
            "description_width": "",
            "_view_module": "@jupyter-widgets/base",
            "_model_module_version": "1.5.0",
            "_view_count": null,
            "_view_module_version": "1.2.0",
            "bar_color": null,
            "_model_module": "@jupyter-widgets/controls"
          }
        },
        "2118f42ce1b54acb856dc6db7e93ae86": {
          "model_module": "@jupyter-widgets/base",
          "model_name": "LayoutModel",
          "state": {
            "_view_name": "LayoutView",
            "grid_template_rows": null,
            "right": null,
            "justify_content": null,
            "_view_module": "@jupyter-widgets/base",
            "overflow": null,
            "_model_module_version": "1.2.0",
            "_view_count": null,
            "flex_flow": null,
            "width": null,
            "min_width": null,
            "border": null,
            "align_items": null,
            "bottom": null,
            "_model_module": "@jupyter-widgets/base",
            "top": null,
            "grid_column": null,
            "overflow_y": null,
            "overflow_x": null,
            "grid_auto_flow": null,
            "grid_area": null,
            "grid_template_columns": null,
            "flex": "2",
            "_model_name": "LayoutModel",
            "justify_items": null,
            "grid_row": null,
            "max_height": null,
            "align_content": null,
            "visibility": null,
            "align_self": null,
            "height": null,
            "min_height": null,
            "padding": null,
            "grid_auto_rows": null,
            "grid_gap": null,
            "max_width": null,
            "order": null,
            "_view_module_version": "1.2.0",
            "grid_template_areas": null,
            "object_position": null,
            "object_fit": null,
            "grid_auto_columns": null,
            "margin": null,
            "display": null,
            "left": null
          }
        },
        "69be6653e8fd4fa181ef09db42ae24ad": {
          "model_module": "@jupyter-widgets/controls",
          "model_name": "DescriptionStyleModel",
          "state": {
            "_view_name": "StyleView",
            "_model_name": "DescriptionStyleModel",
            "description_width": "",
            "_view_module": "@jupyter-widgets/base",
            "_model_module_version": "1.5.0",
            "_view_count": null,
            "_view_module_version": "1.2.0",
            "_model_module": "@jupyter-widgets/controls"
          }
        },
        "24fba01b217a4fb5a84074e4cb717325": {
          "model_module": "@jupyter-widgets/base",
          "model_name": "LayoutModel",
          "state": {
            "_view_name": "LayoutView",
            "grid_template_rows": null,
            "right": null,
            "justify_content": null,
            "_view_module": "@jupyter-widgets/base",
            "overflow": null,
            "_model_module_version": "1.2.0",
            "_view_count": null,
            "flex_flow": null,
            "width": null,
            "min_width": null,
            "border": null,
            "align_items": null,
            "bottom": null,
            "_model_module": "@jupyter-widgets/base",
            "top": null,
            "grid_column": null,
            "overflow_y": null,
            "overflow_x": null,
            "grid_auto_flow": null,
            "grid_area": null,
            "grid_template_columns": null,
            "flex": null,
            "_model_name": "LayoutModel",
            "justify_items": null,
            "grid_row": null,
            "max_height": null,
            "align_content": null,
            "visibility": null,
            "align_self": null,
            "height": null,
            "min_height": null,
            "padding": null,
            "grid_auto_rows": null,
            "grid_gap": null,
            "max_width": null,
            "order": null,
            "_view_module_version": "1.2.0",
            "grid_template_areas": null,
            "object_position": null,
            "object_fit": null,
            "grid_auto_columns": null,
            "margin": null,
            "display": null,
            "left": null
          }
        }
      }
    }
  },
  "cells": [
    {
      "cell_type": "markdown",
      "metadata": {
        "id": "view-in-github",
        "colab_type": "text"
      },
      "source": [
        "<a href=\"https://colab.research.google.com/github/amandaventurac/DataScience_Python_R_Brazilian_Health_System/blob/master/income_predictor.ipynb\" target=\"_parent\"><img src=\"https://colab.research.google.com/assets/colab-badge.svg\" alt=\"Open In Colab\"/></a>"
      ]
    },
    {
      "cell_type": "markdown",
      "metadata": {
        "id": "Dcw-x8GIXvfn"
      },
      "source": [
        "This project aims to predict **when the personal income is higher than 50K/year in the US**, based on predictors as age, sex, professional activity, native country, and other demographic characteristics. \r\n",
        "\r\n",
        "The dataset is available at  http://archive.ics.uci.edu/ml/machine-learning-databases/adult/\r\n",
        "\r\n",
        "\r\n",
        "Accordingo to adults.names (metadata file), the predictor variables are:\r\n",
        "\r\n",
        "    age: continuous.\r\n",
        "\r\n",
        "    workclass: Private, Self-emp-not-inc, Self-emp-inc, Federal-gov, Local-gov, State-gov, Without-pay, Never-worked.\r\n",
        "\r\n",
        "    **fnlwgt**: continuous. (see about this variable below)\r\n",
        "\r\n",
        "    education: Bachelors, Some-college, 11th, HS-grad, Prof-school, Assoc-acdm, Assoc-voc, 9th, 7th-8th, 12th, Masters, 1st-4th, 10th, Doctorate, 5th-6th, Preschool.\r\n",
        "\r\n",
        "    education-num: continuous.\r\n",
        "\r\n",
        "    marital-status: Married-civ-spouse, Divorced, Never-married, Separated, Widowed, Married-spouse-absent, Married-AF-spouse.\r\n",
        "\r\n",
        "    occupation: Tech-support, Craft-repair, Other-service, Sales, Exec-managerial, Prof-specialty, Handlers-cleaners, Machine-op-inspct, Adm-clerical, Farming-fishing, Transport-moving, Priv-house-serv, Protective-serv, Armed-Forces.\r\n",
        "\r\n",
        "    relationship: Wife, Own-child, Husband, Not-in-family, Other-relative, Unmarried.\r\n",
        "\r\n",
        "    race: White, Asian-Pac-Islander, Amer-Indian-Eskimo, Other, Black.\r\n",
        "\r\n",
        "    sex: Female, Male.\r\n",
        "\r\n",
        "    capital-gain: continuous.\r\n",
        "\r\n",
        "    capital-loss: continuous.\r\n",
        "\r\n",
        "    hours-per-week: continuous.\r\n",
        "\r\n",
        "    native-country: United-States, Cambodia, England, Puerto-Rico, Canada, Germany, Outlying-US(Guam-USVI-etc), India, Japan, Greece, South, China, Cuba, Iran, Honduras, Philippines, Italy, Poland, Jamaica, Vietnam, Mexico, Portugal, Ireland, France, Dominican-Republic, Laos, Ecuador, Taiwan, Haiti, Columbia, Hungary, Guatemala, Nicaragua, Scotland, Thailand, Yugoslavia, El-Salvador, Trinadad&Tobago, Peru, Hong, Holand-Netherlands."
      ]
    },
    {
      "cell_type": "code",
      "metadata": {
        "id": "vF8t4D7776zu"
      },
      "source": [
        ""
      ],
      "execution_count": null,
      "outputs": []
    },
    {
      "cell_type": "markdown",
      "metadata": {
        "id": "_-V5EHkwZJzG"
      },
      "source": [
        "All variables are understandable at first, except fnlwgt (final weight). \r\n",
        "\r\n",
        "Thera are more details on metadata files, that could be summarized as:\r\n",
        "\r\n",
        "    The fnlwgt column is numerical continuous\r\n",
        "    This column was a product of other demographic characteristics, as:\r\n",
        "        Hispanic origin information\r\n",
        "        Race, sex, and age\r\n",
        "    An algorithm was constructed to adjust the weights based on the above information.\r\n",
        "    As result, people with similar demographic characteristics should have similar weights.\r\n"
      ]
    },
    {
      "cell_type": "markdown",
      "metadata": {
        "id": "Z95Q8mqdd80b"
      },
      "source": [
        "At this point, the problem is understood and the dataset can be imported. \r\n",
        "The metadata information was used to construct a dataset head, to simplify the pandas load process. \r\n",
        "\r\n",
        "**Looking at the train dataset:**\r\n",
        "\r\n",
        "Please go to https://github.com/amandaventurac/Income_predictor/blob/main/adult_with_head_train.csv\r\n",
        "\r\n",
        "Please click on \"View raw\", and copy the link to the 'url_train' variable below.\r\n",
        "This procedure is necessary due to private repository and constant token update. \r\n",
        "\r\n",
        "After some minutes, if you need to run again the code below, you will have to access the link and paste the new address with a new token.   "
      ]
    },
    {
      "cell_type": "code",
      "metadata": {
        "id": "AoBvb8VCXqmY",
        "colab": {
          "base_uri": "https://localhost:8080/",
          "height": 1000
        },
        "outputId": "e5f4af57-1c8c-415d-918e-6a6690132b5f"
      },
      "source": [
        "import io\r\n",
        "import requests\r\n",
        "import pandas as pd\r\n",
        "import missingno as msgno\r\n",
        "\r\n",
        "url_train = \"https://raw.githubusercontent.com/amandaventurac/Income_predictor/main/adult_with_head_train.csv?token=AJ47KBW53VMBV56OXWKWLDLAAXSHI\"\r\n",
        "s = requests.get(url_train).content\r\n",
        "train = pd.read_csv(io.BytesIO(s))\r\n",
        "print(\"The train dataset has {} rows and {} columns\".format(train.shape[0], train.shape[1]))\r\n",
        "\r\n",
        "display(train.sample(10))\r\n",
        "\r\n",
        "print(\"As we can see below, there is not missing data pointed by missingno module, but there are unknown values as '?'. \")\r\n",
        "msgno.matrix(train)\r\n",
        "\r\n"
      ],
      "execution_count": null,
      "outputs": [
        {
          "output_type": "stream",
          "text": [
            "The train dataset has 32561 rows and 15 columns\n"
          ],
          "name": "stdout"
        },
        {
          "output_type": "display_data",
          "data": {
            "text/html": [
              "<div>\n",
              "<style scoped>\n",
              "    .dataframe tbody tr th:only-of-type {\n",
              "        vertical-align: middle;\n",
              "    }\n",
              "\n",
              "    .dataframe tbody tr th {\n",
              "        vertical-align: top;\n",
              "    }\n",
              "\n",
              "    .dataframe thead th {\n",
              "        text-align: right;\n",
              "    }\n",
              "</style>\n",
              "<table border=\"1\" class=\"dataframe\">\n",
              "  <thead>\n",
              "    <tr style=\"text-align: right;\">\n",
              "      <th></th>\n",
              "      <th>age</th>\n",
              "      <th>workclass</th>\n",
              "      <th>fnlwgt</th>\n",
              "      <th>education</th>\n",
              "      <th>education-num</th>\n",
              "      <th>marital-status</th>\n",
              "      <th>occupation</th>\n",
              "      <th>relationship</th>\n",
              "      <th>race</th>\n",
              "      <th>sex</th>\n",
              "      <th>capita-gain</th>\n",
              "      <th>capital-loss</th>\n",
              "      <th>hours-per-week</th>\n",
              "      <th>native-country</th>\n",
              "      <th>income</th>\n",
              "    </tr>\n",
              "  </thead>\n",
              "  <tbody>\n",
              "    <tr>\n",
              "      <th>6550</th>\n",
              "      <td>29</td>\n",
              "      <td>Private</td>\n",
              "      <td>110442</td>\n",
              "      <td>HS-grad</td>\n",
              "      <td>9</td>\n",
              "      <td>Married-civ-spouse</td>\n",
              "      <td>Handlers-cleaners</td>\n",
              "      <td>Husband</td>\n",
              "      <td>White</td>\n",
              "      <td>Male</td>\n",
              "      <td>0</td>\n",
              "      <td>0</td>\n",
              "      <td>45</td>\n",
              "      <td>United-States</td>\n",
              "      <td>&lt;=50K</td>\n",
              "    </tr>\n",
              "    <tr>\n",
              "      <th>6936</th>\n",
              "      <td>25</td>\n",
              "      <td>Private</td>\n",
              "      <td>34402</td>\n",
              "      <td>Bachelors</td>\n",
              "      <td>13</td>\n",
              "      <td>Never-married</td>\n",
              "      <td>Exec-managerial</td>\n",
              "      <td>Not-in-family</td>\n",
              "      <td>White</td>\n",
              "      <td>Male</td>\n",
              "      <td>0</td>\n",
              "      <td>1590</td>\n",
              "      <td>60</td>\n",
              "      <td>United-States</td>\n",
              "      <td>&lt;=50K</td>\n",
              "    </tr>\n",
              "    <tr>\n",
              "      <th>20337</th>\n",
              "      <td>18</td>\n",
              "      <td>Never-worked</td>\n",
              "      <td>157131</td>\n",
              "      <td>11th</td>\n",
              "      <td>7</td>\n",
              "      <td>Never-married</td>\n",
              "      <td>?</td>\n",
              "      <td>Own-child</td>\n",
              "      <td>White</td>\n",
              "      <td>Female</td>\n",
              "      <td>0</td>\n",
              "      <td>0</td>\n",
              "      <td>10</td>\n",
              "      <td>United-States</td>\n",
              "      <td>&lt;=50K</td>\n",
              "    </tr>\n",
              "    <tr>\n",
              "      <th>25338</th>\n",
              "      <td>56</td>\n",
              "      <td>Private</td>\n",
              "      <td>147202</td>\n",
              "      <td>Some-college</td>\n",
              "      <td>10</td>\n",
              "      <td>Divorced</td>\n",
              "      <td>Adm-clerical</td>\n",
              "      <td>Not-in-family</td>\n",
              "      <td>White</td>\n",
              "      <td>Female</td>\n",
              "      <td>0</td>\n",
              "      <td>0</td>\n",
              "      <td>45</td>\n",
              "      <td>Germany</td>\n",
              "      <td>&lt;=50K</td>\n",
              "    </tr>\n",
              "    <tr>\n",
              "      <th>29275</th>\n",
              "      <td>36</td>\n",
              "      <td>Private</td>\n",
              "      <td>201117</td>\n",
              "      <td>Bachelors</td>\n",
              "      <td>13</td>\n",
              "      <td>Married-civ-spouse</td>\n",
              "      <td>Exec-managerial</td>\n",
              "      <td>Husband</td>\n",
              "      <td>White</td>\n",
              "      <td>Male</td>\n",
              "      <td>0</td>\n",
              "      <td>0</td>\n",
              "      <td>50</td>\n",
              "      <td>United-States</td>\n",
              "      <td>&lt;=50K</td>\n",
              "    </tr>\n",
              "    <tr>\n",
              "      <th>6611</th>\n",
              "      <td>66</td>\n",
              "      <td>Local-gov</td>\n",
              "      <td>75134</td>\n",
              "      <td>HS-grad</td>\n",
              "      <td>9</td>\n",
              "      <td>Widowed</td>\n",
              "      <td>Adm-clerical</td>\n",
              "      <td>Unmarried</td>\n",
              "      <td>White</td>\n",
              "      <td>Female</td>\n",
              "      <td>0</td>\n",
              "      <td>0</td>\n",
              "      <td>25</td>\n",
              "      <td>United-States</td>\n",
              "      <td>&lt;=50K</td>\n",
              "    </tr>\n",
              "    <tr>\n",
              "      <th>17452</th>\n",
              "      <td>47</td>\n",
              "      <td>Self-emp-inc</td>\n",
              "      <td>119471</td>\n",
              "      <td>7th-8th</td>\n",
              "      <td>4</td>\n",
              "      <td>Never-married</td>\n",
              "      <td>Craft-repair</td>\n",
              "      <td>Not-in-family</td>\n",
              "      <td>Other</td>\n",
              "      <td>Male</td>\n",
              "      <td>0</td>\n",
              "      <td>0</td>\n",
              "      <td>40</td>\n",
              "      <td>?</td>\n",
              "      <td>&lt;=50K</td>\n",
              "    </tr>\n",
              "    <tr>\n",
              "      <th>23402</th>\n",
              "      <td>23</td>\n",
              "      <td>Private</td>\n",
              "      <td>65481</td>\n",
              "      <td>HS-grad</td>\n",
              "      <td>9</td>\n",
              "      <td>Married-civ-spouse</td>\n",
              "      <td>Machine-op-inspct</td>\n",
              "      <td>Wife</td>\n",
              "      <td>White</td>\n",
              "      <td>Female</td>\n",
              "      <td>0</td>\n",
              "      <td>0</td>\n",
              "      <td>40</td>\n",
              "      <td>United-States</td>\n",
              "      <td>&gt;50K</td>\n",
              "    </tr>\n",
              "    <tr>\n",
              "      <th>6286</th>\n",
              "      <td>24</td>\n",
              "      <td>Private</td>\n",
              "      <td>138938</td>\n",
              "      <td>Some-college</td>\n",
              "      <td>10</td>\n",
              "      <td>Divorced</td>\n",
              "      <td>Adm-clerical</td>\n",
              "      <td>Not-in-family</td>\n",
              "      <td>White</td>\n",
              "      <td>Female</td>\n",
              "      <td>0</td>\n",
              "      <td>0</td>\n",
              "      <td>40</td>\n",
              "      <td>United-States</td>\n",
              "      <td>&lt;=50K</td>\n",
              "    </tr>\n",
              "    <tr>\n",
              "      <th>5626</th>\n",
              "      <td>43</td>\n",
              "      <td>Private</td>\n",
              "      <td>198203</td>\n",
              "      <td>Some-college</td>\n",
              "      <td>10</td>\n",
              "      <td>Married-spouse-absent</td>\n",
              "      <td>Other-service</td>\n",
              "      <td>Not-in-family</td>\n",
              "      <td>Black</td>\n",
              "      <td>Female</td>\n",
              "      <td>0</td>\n",
              "      <td>0</td>\n",
              "      <td>40</td>\n",
              "      <td>United-States</td>\n",
              "      <td>&lt;=50K</td>\n",
              "    </tr>\n",
              "  </tbody>\n",
              "</table>\n",
              "</div>"
            ],
            "text/plain": [
              "       age      workclass  fnlwgt  ... hours-per-week  native-country  income\n",
              "6550    29        Private  110442  ...             45   United-States   <=50K\n",
              "6936    25        Private   34402  ...             60   United-States   <=50K\n",
              "20337   18   Never-worked  157131  ...             10   United-States   <=50K\n",
              "25338   56        Private  147202  ...             45         Germany   <=50K\n",
              "29275   36        Private  201117  ...             50   United-States   <=50K\n",
              "6611    66      Local-gov   75134  ...             25   United-States   <=50K\n",
              "17452   47   Self-emp-inc  119471  ...             40               ?   <=50K\n",
              "23402   23        Private   65481  ...             40   United-States    >50K\n",
              "6286    24        Private  138938  ...             40   United-States   <=50K\n",
              "5626    43        Private  198203  ...             40   United-States   <=50K\n",
              "\n",
              "[10 rows x 15 columns]"
            ]
          },
          "metadata": {
            "tags": []
          }
        },
        {
          "output_type": "stream",
          "text": [
            "As we can see below, there is not missing data pointed by missingno module, but there are unknown values as '?'. \n"
          ],
          "name": "stdout"
        },
        {
          "output_type": "execute_result",
          "data": {
            "text/plain": [
              "<matplotlib.axes._subplots.AxesSubplot at 0x7fa610ff91d0>"
            ]
          },
          "metadata": {
            "tags": []
          },
          "execution_count": 2
        },
        {
          "output_type": "display_data",
          "data": {
            "image/png": "[encoded data removed]",
            "text/plain": [
              "<Figure size 1800x720 with 2 Axes>"
            ]
          },
          "metadata": {
            "tags": [],
            "needs_background": "light"
          }
        }
      ]
    },
    {
      "cell_type": "code",
      "metadata": {
        "colab": {
          "base_uri": "https://localhost:8080/",
          "height": 571
        },
        "id": "fEK01yCoTdDK",
        "outputId": "a8f978a2-50c3-4d2d-d7be-54267dab21c9"
      },
      "source": [
        "display(type(train))\n",
        "display(train.dtypes.value_counts)\n",
        "display(train.describe())"
      ],
      "execution_count": null,
      "outputs": [
        {
          "output_type": "display_data",
          "data": {
            "text/plain": [
              "pandas.core.frame.DataFrame"
            ]
          },
          "metadata": {
            "tags": []
          }
        },
        {
          "output_type": "display_data",
          "data": {
            "text/plain": [
              "<bound method IndexOpsMixin.value_counts of age                int64\n",
              "workclass         object\n",
              "fnlwgt             int64\n",
              "education         object\n",
              "education-num      int64\n",
              "marital-status    object\n",
              "occupation        object\n",
              "relationship      object\n",
              "race              object\n",
              "sex               object\n",
              "capita-gain        int64\n",
              "capital-loss       int64\n",
              "hours-per-week     int64\n",
              "native-country    object\n",
              "income            object\n",
              "dtype: object>"
            ]
          },
          "metadata": {
            "tags": []
          }
        },
        {
          "output_type": "display_data",
          "data": {
            "text/html": [
              "<div>\n",
              "<style scoped>\n",
              "    .dataframe tbody tr th:only-of-type {\n",
              "        vertical-align: middle;\n",
              "    }\n",
              "\n",
              "    .dataframe tbody tr th {\n",
              "        vertical-align: top;\n",
              "    }\n",
              "\n",
              "    .dataframe thead th {\n",
              "        text-align: right;\n",
              "    }\n",
              "</style>\n",
              "<table border=\"1\" class=\"dataframe\">\n",
              "  <thead>\n",
              "    <tr style=\"text-align: right;\">\n",
              "      <th></th>\n",
              "      <th>age</th>\n",
              "      <th>fnlwgt</th>\n",
              "      <th>education-num</th>\n",
              "      <th>capita-gain</th>\n",
              "      <th>capital-loss</th>\n",
              "      <th>hours-per-week</th>\n",
              "    </tr>\n",
              "  </thead>\n",
              "  <tbody>\n",
              "    <tr>\n",
              "      <th>count</th>\n",
              "      <td>32561.000000</td>\n",
              "      <td>3.256100e+04</td>\n",
              "      <td>32561.000000</td>\n",
              "      <td>32561.000000</td>\n",
              "      <td>32561.000000</td>\n",
              "      <td>32561.000000</td>\n",
              "    </tr>\n",
              "    <tr>\n",
              "      <th>mean</th>\n",
              "      <td>38.581647</td>\n",
              "      <td>1.897784e+05</td>\n",
              "      <td>10.080679</td>\n",
              "      <td>1077.648844</td>\n",
              "      <td>87.303830</td>\n",
              "      <td>40.437456</td>\n",
              "    </tr>\n",
              "    <tr>\n",
              "      <th>std</th>\n",
              "      <td>13.640433</td>\n",
              "      <td>1.055500e+05</td>\n",
              "      <td>2.572720</td>\n",
              "      <td>7385.292085</td>\n",
              "      <td>402.960219</td>\n",
              "      <td>12.347429</td>\n",
              "    </tr>\n",
              "    <tr>\n",
              "      <th>min</th>\n",
              "      <td>17.000000</td>\n",
              "      <td>1.228500e+04</td>\n",
              "      <td>1.000000</td>\n",
              "      <td>0.000000</td>\n",
              "      <td>0.000000</td>\n",
              "      <td>1.000000</td>\n",
              "    </tr>\n",
              "    <tr>\n",
              "      <th>25%</th>\n",
              "      <td>28.000000</td>\n",
              "      <td>1.178270e+05</td>\n",
              "      <td>9.000000</td>\n",
              "      <td>0.000000</td>\n",
              "      <td>0.000000</td>\n",
              "      <td>40.000000</td>\n",
              "    </tr>\n",
              "    <tr>\n",
              "      <th>50%</th>\n",
              "      <td>37.000000</td>\n",
              "      <td>1.783560e+05</td>\n",
              "      <td>10.000000</td>\n",
              "      <td>0.000000</td>\n",
              "      <td>0.000000</td>\n",
              "      <td>40.000000</td>\n",
              "    </tr>\n",
              "    <tr>\n",
              "      <th>75%</th>\n",
              "      <td>48.000000</td>\n",
              "      <td>2.370510e+05</td>\n",
              "      <td>12.000000</td>\n",
              "      <td>0.000000</td>\n",
              "      <td>0.000000</td>\n",
              "      <td>45.000000</td>\n",
              "    </tr>\n",
              "    <tr>\n",
              "      <th>max</th>\n",
              "      <td>90.000000</td>\n",
              "      <td>1.484705e+06</td>\n",
              "      <td>16.000000</td>\n",
              "      <td>99999.000000</td>\n",
              "      <td>4356.000000</td>\n",
              "      <td>99.000000</td>\n",
              "    </tr>\n",
              "  </tbody>\n",
              "</table>\n",
              "</div>"
            ],
            "text/plain": [
              "                age        fnlwgt  ...  capital-loss  hours-per-week\n",
              "count  32561.000000  3.256100e+04  ...  32561.000000    32561.000000\n",
              "mean      38.581647  1.897784e+05  ...     87.303830       40.437456\n",
              "std       13.640433  1.055500e+05  ...    402.960219       12.347429\n",
              "min       17.000000  1.228500e+04  ...      0.000000        1.000000\n",
              "25%       28.000000  1.178270e+05  ...      0.000000       40.000000\n",
              "50%       37.000000  1.783560e+05  ...      0.000000       40.000000\n",
              "75%       48.000000  2.370510e+05  ...      0.000000       45.000000\n",
              "max       90.000000  1.484705e+06  ...   4356.000000       99.000000\n",
              "\n",
              "[8 rows x 6 columns]"
            ]
          },
          "metadata": {
            "tags": []
          }
        }
      ]
    },
    {
      "cell_type": "markdown",
      "metadata": {
        "id": "LmRkih3MHOt9"
      },
      "source": [
        "**Looking at the test dataset:**\n",
        "\n",
        "Please go to https://github.com/amandaventurac/Income_predictor/blob/main/adult_with_head_test.csv\n",
        "\n",
        "Please click on \"View raw\", and copy the link to the 'url_test' variable below.\n",
        "This procedure is necessary due to private repository and constant token update. \n",
        "\n",
        "After some minutes, if you need to run again the code below, you will have to access the link and paste the new address with a new token.   "
      ]
    },
    {
      "cell_type": "code",
      "metadata": {
        "colab": {
          "base_uri": "https://localhost:8080/",
          "height": 1000
        },
        "id": "klFvsU5AHZ3l",
        "outputId": "07b8212e-ca44-4ec2-956e-c5844bbde399"
      },
      "source": [
        "url_test = \"https://raw.githubusercontent.com/amandaventurac/Income_predictor/main/adult_with_head_test.csv?token=AJ47KBQIVHIAXRJAN3WDWZDAAXTAQ\"\n",
        "s2 = requests.get(url_test).content\n",
        "test = pd.read_csv(io.BytesIO(s2))\n",
        "print(\"The test dataset has {} rows and {} columns\".format(test.shape[0], test.shape[1]))\n",
        "\n",
        "display(test.sample(10))\n",
        "\n",
        "print(\"As we can see below, there is not missing data pointed by missingno module, but there are unknown values as '?'. \")\n",
        "msgno.matrix(test)"
      ],
      "execution_count": null,
      "outputs": [
        {
          "output_type": "stream",
          "text": [
            "The test dataset has 16281 rows and 15 columns\n"
          ],
          "name": "stdout"
        },
        {
          "output_type": "display_data",
          "data": {
            "text/html": [
              "<div>\n",
              "<style scoped>\n",
              "    .dataframe tbody tr th:only-of-type {\n",
              "        vertical-align: middle;\n",
              "    }\n",
              "\n",
              "    .dataframe tbody tr th {\n",
              "        vertical-align: top;\n",
              "    }\n",
              "\n",
              "    .dataframe thead th {\n",
              "        text-align: right;\n",
              "    }\n",
              "</style>\n",
              "<table border=\"1\" class=\"dataframe\">\n",
              "  <thead>\n",
              "    <tr style=\"text-align: right;\">\n",
              "      <th></th>\n",
              "      <th>age</th>\n",
              "      <th>workclass</th>\n",
              "      <th>fnlwgt</th>\n",
              "      <th>education</th>\n",
              "      <th>education-num</th>\n",
              "      <th>marital-status</th>\n",
              "      <th>occupation</th>\n",
              "      <th>relationship</th>\n",
              "      <th>race</th>\n",
              "      <th>sex</th>\n",
              "      <th>capita-gain</th>\n",
              "      <th>capital-loss</th>\n",
              "      <th>hours-per-week</th>\n",
              "      <th>native-country</th>\n",
              "      <th>income</th>\n",
              "    </tr>\n",
              "  </thead>\n",
              "  <tbody>\n",
              "    <tr>\n",
              "      <th>16160</th>\n",
              "      <td>26</td>\n",
              "      <td>Private</td>\n",
              "      <td>143280</td>\n",
              "      <td>HS-grad</td>\n",
              "      <td>9</td>\n",
              "      <td>Never-married</td>\n",
              "      <td>Adm-clerical</td>\n",
              "      <td>Other-relative</td>\n",
              "      <td>White</td>\n",
              "      <td>Female</td>\n",
              "      <td>0</td>\n",
              "      <td>0</td>\n",
              "      <td>40</td>\n",
              "      <td>United-States</td>\n",
              "      <td>&lt;=50K.</td>\n",
              "    </tr>\n",
              "    <tr>\n",
              "      <th>12590</th>\n",
              "      <td>40</td>\n",
              "      <td>Private</td>\n",
              "      <td>33795</td>\n",
              "      <td>Assoc-voc</td>\n",
              "      <td>11</td>\n",
              "      <td>Married-civ-spouse</td>\n",
              "      <td>Craft-repair</td>\n",
              "      <td>Husband</td>\n",
              "      <td>White</td>\n",
              "      <td>Male</td>\n",
              "      <td>0</td>\n",
              "      <td>0</td>\n",
              "      <td>40</td>\n",
              "      <td>United-States</td>\n",
              "      <td>&lt;=50K.</td>\n",
              "    </tr>\n",
              "    <tr>\n",
              "      <th>15557</th>\n",
              "      <td>26</td>\n",
              "      <td>?</td>\n",
              "      <td>408417</td>\n",
              "      <td>Some-college</td>\n",
              "      <td>10</td>\n",
              "      <td>Married-AF-spouse</td>\n",
              "      <td>?</td>\n",
              "      <td>Husband</td>\n",
              "      <td>Black</td>\n",
              "      <td>Male</td>\n",
              "      <td>0</td>\n",
              "      <td>0</td>\n",
              "      <td>38</td>\n",
              "      <td>United-States</td>\n",
              "      <td>&lt;=50K.</td>\n",
              "    </tr>\n",
              "    <tr>\n",
              "      <th>3998</th>\n",
              "      <td>37</td>\n",
              "      <td>Private</td>\n",
              "      <td>112838</td>\n",
              "      <td>Masters</td>\n",
              "      <td>14</td>\n",
              "      <td>Married-civ-spouse</td>\n",
              "      <td>Exec-managerial</td>\n",
              "      <td>Husband</td>\n",
              "      <td>White</td>\n",
              "      <td>Male</td>\n",
              "      <td>0</td>\n",
              "      <td>0</td>\n",
              "      <td>55</td>\n",
              "      <td>United-States</td>\n",
              "      <td>&gt;50K.</td>\n",
              "    </tr>\n",
              "    <tr>\n",
              "      <th>11125</th>\n",
              "      <td>29</td>\n",
              "      <td>State-gov</td>\n",
              "      <td>51461</td>\n",
              "      <td>Assoc-acdm</td>\n",
              "      <td>12</td>\n",
              "      <td>Never-married</td>\n",
              "      <td>Tech-support</td>\n",
              "      <td>Not-in-family</td>\n",
              "      <td>White</td>\n",
              "      <td>Male</td>\n",
              "      <td>0</td>\n",
              "      <td>0</td>\n",
              "      <td>45</td>\n",
              "      <td>United-States</td>\n",
              "      <td>&lt;=50K.</td>\n",
              "    </tr>\n",
              "    <tr>\n",
              "      <th>6516</th>\n",
              "      <td>43</td>\n",
              "      <td>Federal-gov</td>\n",
              "      <td>53956</td>\n",
              "      <td>HS-grad</td>\n",
              "      <td>9</td>\n",
              "      <td>Married-civ-spouse</td>\n",
              "      <td>Adm-clerical</td>\n",
              "      <td>Husband</td>\n",
              "      <td>White</td>\n",
              "      <td>Male</td>\n",
              "      <td>0</td>\n",
              "      <td>0</td>\n",
              "      <td>55</td>\n",
              "      <td>United-States</td>\n",
              "      <td>&gt;50K.</td>\n",
              "    </tr>\n",
              "    <tr>\n",
              "      <th>6873</th>\n",
              "      <td>36</td>\n",
              "      <td>Private</td>\n",
              "      <td>195148</td>\n",
              "      <td>Bachelors</td>\n",
              "      <td>13</td>\n",
              "      <td>Never-married</td>\n",
              "      <td>Exec-managerial</td>\n",
              "      <td>Own-child</td>\n",
              "      <td>White</td>\n",
              "      <td>Male</td>\n",
              "      <td>0</td>\n",
              "      <td>0</td>\n",
              "      <td>40</td>\n",
              "      <td>United-States</td>\n",
              "      <td>&lt;=50K.</td>\n",
              "    </tr>\n",
              "    <tr>\n",
              "      <th>6301</th>\n",
              "      <td>29</td>\n",
              "      <td>Local-gov</td>\n",
              "      <td>95471</td>\n",
              "      <td>Bachelors</td>\n",
              "      <td>13</td>\n",
              "      <td>Married-civ-spouse</td>\n",
              "      <td>Exec-managerial</td>\n",
              "      <td>Husband</td>\n",
              "      <td>White</td>\n",
              "      <td>Male</td>\n",
              "      <td>0</td>\n",
              "      <td>0</td>\n",
              "      <td>55</td>\n",
              "      <td>United-States</td>\n",
              "      <td>&lt;=50K.</td>\n",
              "    </tr>\n",
              "    <tr>\n",
              "      <th>12218</th>\n",
              "      <td>22</td>\n",
              "      <td>Private</td>\n",
              "      <td>172496</td>\n",
              "      <td>Some-college</td>\n",
              "      <td>10</td>\n",
              "      <td>Never-married</td>\n",
              "      <td>Handlers-cleaners</td>\n",
              "      <td>Not-in-family</td>\n",
              "      <td>White</td>\n",
              "      <td>Male</td>\n",
              "      <td>0</td>\n",
              "      <td>0</td>\n",
              "      <td>40</td>\n",
              "      <td>Poland</td>\n",
              "      <td>&lt;=50K.</td>\n",
              "    </tr>\n",
              "    <tr>\n",
              "      <th>4729</th>\n",
              "      <td>50</td>\n",
              "      <td>Private</td>\n",
              "      <td>176773</td>\n",
              "      <td>Preschool</td>\n",
              "      <td>1</td>\n",
              "      <td>Married-civ-spouse</td>\n",
              "      <td>Farming-fishing</td>\n",
              "      <td>Husband</td>\n",
              "      <td>Black</td>\n",
              "      <td>Male</td>\n",
              "      <td>0</td>\n",
              "      <td>0</td>\n",
              "      <td>40</td>\n",
              "      <td>Haiti</td>\n",
              "      <td>&lt;=50K.</td>\n",
              "    </tr>\n",
              "  </tbody>\n",
              "</table>\n",
              "</div>"
            ],
            "text/plain": [
              "       age     workclass  fnlwgt  ... hours-per-week  native-country   income\n",
              "16160   26       Private  143280  ...             40   United-States   <=50K.\n",
              "12590   40       Private   33795  ...             40   United-States   <=50K.\n",
              "15557   26             ?  408417  ...             38   United-States   <=50K.\n",
              "3998    37       Private  112838  ...             55   United-States    >50K.\n",
              "11125   29     State-gov   51461  ...             45   United-States   <=50K.\n",
              "6516    43   Federal-gov   53956  ...             55   United-States    >50K.\n",
              "6873    36       Private  195148  ...             40   United-States   <=50K.\n",
              "6301    29     Local-gov   95471  ...             55   United-States   <=50K.\n",
              "12218   22       Private  172496  ...             40          Poland   <=50K.\n",
              "4729    50       Private  176773  ...             40           Haiti   <=50K.\n",
              "\n",
              "[10 rows x 15 columns]"
            ]
          },
          "metadata": {
            "tags": []
          }
        },
        {
          "output_type": "stream",
          "text": [
            "As we can see below, there is not missing data pointed by missingno module, but there are unknown values as '?'. \n"
          ],
          "name": "stdout"
        },
        {
          "output_type": "execute_result",
          "data": {
            "text/plain": [
              "<matplotlib.axes._subplots.AxesSubplot at 0x7fa60709ab38>"
            ]
          },
          "metadata": {
            "tags": []
          },
          "execution_count": 30
        },
        {
          "output_type": "display_data",
          "data": {
            "image/png": "[encoded data removed]",
            "text/plain": [
              "<Figure size 1800x720 with 2 Axes>"
            ]
          },
          "metadata": {
            "tags": [],
            "needs_background": "light"
          }
        }
      ]
    },
    {
      "cell_type": "code",
      "metadata": {
        "colab": {
          "base_uri": "https://localhost:8080/",
          "height": 571
        },
        "id": "vRGuIervUy8C",
        "outputId": "69f2caf9-afe5-43ac-c9cc-018171321c6a"
      },
      "source": [
        "display(type(test))\n",
        "display(test.dtypes.value_counts)\n",
        "display(test.describe())"
      ],
      "execution_count": null,
      "outputs": [
        {
          "output_type": "display_data",
          "data": {
            "text/plain": [
              "pandas.core.frame.DataFrame"
            ]
          },
          "metadata": {
            "tags": []
          }
        },
        {
          "output_type": "display_data",
          "data": {
            "text/plain": [
              "<bound method IndexOpsMixin.value_counts of age                int64\n",
              "workclass         object\n",
              "fnlwgt             int64\n",
              "education         object\n",
              "education-num      int64\n",
              "marital-status    object\n",
              "occupation        object\n",
              "relationship      object\n",
              "race              object\n",
              "sex               object\n",
              "capita-gain        int64\n",
              "capital-loss       int64\n",
              "hours-per-week     int64\n",
              "native-country    object\n",
              "income            object\n",
              "dtype: object>"
            ]
          },
          "metadata": {
            "tags": []
          }
        },
        {
          "output_type": "display_data",
          "data": {
            "text/html": [
              "<div>\n",
              "<style scoped>\n",
              "    .dataframe tbody tr th:only-of-type {\n",
              "        vertical-align: middle;\n",
              "    }\n",
              "\n",
              "    .dataframe tbody tr th {\n",
              "        vertical-align: top;\n",
              "    }\n",
              "\n",
              "    .dataframe thead th {\n",
              "        text-align: right;\n",
              "    }\n",
              "</style>\n",
              "<table border=\"1\" class=\"dataframe\">\n",
              "  <thead>\n",
              "    <tr style=\"text-align: right;\">\n",
              "      <th></th>\n",
              "      <th>age</th>\n",
              "      <th>fnlwgt</th>\n",
              "      <th>education-num</th>\n",
              "      <th>capita-gain</th>\n",
              "      <th>capital-loss</th>\n",
              "      <th>hours-per-week</th>\n",
              "    </tr>\n",
              "  </thead>\n",
              "  <tbody>\n",
              "    <tr>\n",
              "      <th>count</th>\n",
              "      <td>16281.000000</td>\n",
              "      <td>1.628100e+04</td>\n",
              "      <td>16281.000000</td>\n",
              "      <td>16281.000000</td>\n",
              "      <td>16281.000000</td>\n",
              "      <td>16281.000000</td>\n",
              "    </tr>\n",
              "    <tr>\n",
              "      <th>mean</th>\n",
              "      <td>38.767459</td>\n",
              "      <td>1.894357e+05</td>\n",
              "      <td>10.072907</td>\n",
              "      <td>1081.905104</td>\n",
              "      <td>87.899269</td>\n",
              "      <td>40.392236</td>\n",
              "    </tr>\n",
              "    <tr>\n",
              "      <th>std</th>\n",
              "      <td>13.849187</td>\n",
              "      <td>1.057149e+05</td>\n",
              "      <td>2.567545</td>\n",
              "      <td>7583.935968</td>\n",
              "      <td>403.105286</td>\n",
              "      <td>12.479332</td>\n",
              "    </tr>\n",
              "    <tr>\n",
              "      <th>min</th>\n",
              "      <td>17.000000</td>\n",
              "      <td>1.349200e+04</td>\n",
              "      <td>1.000000</td>\n",
              "      <td>0.000000</td>\n",
              "      <td>0.000000</td>\n",
              "      <td>1.000000</td>\n",
              "    </tr>\n",
              "    <tr>\n",
              "      <th>25%</th>\n",
              "      <td>28.000000</td>\n",
              "      <td>1.167360e+05</td>\n",
              "      <td>9.000000</td>\n",
              "      <td>0.000000</td>\n",
              "      <td>0.000000</td>\n",
              "      <td>40.000000</td>\n",
              "    </tr>\n",
              "    <tr>\n",
              "      <th>50%</th>\n",
              "      <td>37.000000</td>\n",
              "      <td>1.778310e+05</td>\n",
              "      <td>10.000000</td>\n",
              "      <td>0.000000</td>\n",
              "      <td>0.000000</td>\n",
              "      <td>40.000000</td>\n",
              "    </tr>\n",
              "    <tr>\n",
              "      <th>75%</th>\n",
              "      <td>48.000000</td>\n",
              "      <td>2.383840e+05</td>\n",
              "      <td>12.000000</td>\n",
              "      <td>0.000000</td>\n",
              "      <td>0.000000</td>\n",
              "      <td>45.000000</td>\n",
              "    </tr>\n",
              "    <tr>\n",
              "      <th>max</th>\n",
              "      <td>90.000000</td>\n",
              "      <td>1.490400e+06</td>\n",
              "      <td>16.000000</td>\n",
              "      <td>99999.000000</td>\n",
              "      <td>3770.000000</td>\n",
              "      <td>99.000000</td>\n",
              "    </tr>\n",
              "  </tbody>\n",
              "</table>\n",
              "</div>"
            ],
            "text/plain": [
              "                age        fnlwgt  ...  capital-loss  hours-per-week\n",
              "count  16281.000000  1.628100e+04  ...  16281.000000    16281.000000\n",
              "mean      38.767459  1.894357e+05  ...     87.899269       40.392236\n",
              "std       13.849187  1.057149e+05  ...    403.105286       12.479332\n",
              "min       17.000000  1.349200e+04  ...      0.000000        1.000000\n",
              "25%       28.000000  1.167360e+05  ...      0.000000       40.000000\n",
              "50%       37.000000  1.778310e+05  ...      0.000000       40.000000\n",
              "75%       48.000000  2.383840e+05  ...      0.000000       45.000000\n",
              "max       90.000000  1.490400e+06  ...   3770.000000       99.000000\n",
              "\n",
              "[8 rows x 6 columns]"
            ]
          },
          "metadata": {
            "tags": []
          }
        }
      ]
    },
    {
      "cell_type": "markdown",
      "metadata": {
        "id": "1OIpsJMsVDQP"
      },
      "source": [
        "The numerical columns are correctly set as numerical type on both datasets. The other columns are strings, categorical variables. "
      ]
    },
    {
      "cell_type": "markdown",
      "metadata": {
        "id": "ZIZhlsjENrfz"
      },
      "source": [
        "The metadata.names file (https://github.com/amandaventurac/Income_predictor/blob/main/metadata.names) describes the process used to analyze such data.\n",
        "\n",
        "The authors removed the unknown data from the dataset, instead of performing any imputation task. With this procedure, they achieved 85.90%+-0.28% accuracy with Naive Bayes Tree, which is a reasonable value. \n",
        "\n",
        "Therefore, this project will begin with the same approach by removing the unknown data. If a reasonable accuracy (> 80%) is achieved, then a future step could comprise the imputation methods and its analyses on the performance metrics impact.  "
      ]
    },
    {
      "cell_type": "markdown",
      "metadata": {
        "id": "_syozeE8SkN2"
      },
      "source": [
        "To remove the unknown data, it's useful to group the categorical variables:"
      ]
    },
    {
      "cell_type": "code",
      "metadata": {
        "id": "zfULXfivWCaY",
        "colab": {
          "base_uri": "https://localhost:8080/"
        },
        "outputId": "4867d1f0-2380-40f3-fe9a-95b13d94ecbf"
      },
      "source": [
        "group_train_workclass = train[\"workclass\"].value_counts()\n",
        "print(group_train_workclass)\n",
        "unique_workclass_values = set(list((group_train_workclass.index)))\n",
        "print(unique_workclass_values)"
      ],
      "execution_count": null,
      "outputs": [
        {
          "output_type": "stream",
          "text": [
            " Private             22696\n",
            " Self-emp-not-inc     2541\n",
            " Local-gov            2093\n",
            " ?                    1836\n",
            " State-gov            1298\n",
            " Self-emp-inc         1116\n",
            " Federal-gov           960\n",
            " Without-pay            14\n",
            " Never-worked            7\n",
            "Name: workclass, dtype: int64\n",
            "{' ?', ' Federal-gov', ' Without-pay', ' Self-emp-not-inc', ' Private', ' State-gov', ' Local-gov', ' Self-emp-inc', ' Never-worked'}\n"
          ],
          "name": "stdout"
        }
      ]
    },
    {
      "cell_type": "markdown",
      "metadata": {
        "id": "Cj7dvzq7iT6C"
      },
      "source": [
        "The only unknow workclass category is defined as ' ?'. Before going on, it is useful to remove the blank spaces and to lower all characters. The apply command can be used."
      ]
    },
    {
      "cell_type": "code",
      "metadata": {
        "id": "6Iso_MbWpk4v"
      },
      "source": [
        "def remove_space_and_lower_case(data):\n",
        "  try:\n",
        "    out = data.strip()\n",
        "    out = out.lower()\n",
        "  except:\n",
        "    out = data\n",
        "  return out"
      ],
      "execution_count": null,
      "outputs": []
    },
    {
      "cell_type": "code",
      "metadata": {
        "colab": {
          "base_uri": "https://localhost:8080/",
          "height": 701
        },
        "id": "ExhPAKLwp70W",
        "outputId": "a1ce25b0-99b1-45da-b9b7-0cefc23dbf62"
      },
      "source": [
        "for element in [\"workclass\",\"education\",\"marital-status\",\"occupation\",\"relationship\",\"race\",\"sex\",\"native-country\"]:\n",
        "  treated_column_name = element+\"_treated\"\n",
        "  train[treated_column_name] = train[element].apply(remove_space_and_lower_case)\n",
        "\n",
        "print(train.columns)\n",
        "train.sample(10)"
      ],
      "execution_count": null,
      "outputs": [
        {
          "output_type": "stream",
          "text": [
            "Index(['age', 'workclass', 'fnlwgt', 'education', 'education-num',\n",
            "       'marital-status', 'occupation', 'relationship', 'race', 'sex',\n",
            "       'capita-gain', 'capital-loss', 'hours-per-week', 'native-country',\n",
            "       'income', 'workclass_treated', 'education_treated',\n",
            "       'marital-status_treated', 'occupation_treated', 'relationship_treated',\n",
            "       'race_treated', 'sex_treated', 'native-country_treated'],\n",
            "      dtype='object')\n"
          ],
          "name": "stdout"
        },
        {
          "output_type": "execute_result",
          "data": {
            "text/html": [
              "<div>\n",
              "<style scoped>\n",
              "    .dataframe tbody tr th:only-of-type {\n",
              "        vertical-align: middle;\n",
              "    }\n",
              "\n",
              "    .dataframe tbody tr th {\n",
              "        vertical-align: top;\n",
              "    }\n",
              "\n",
              "    .dataframe thead th {\n",
              "        text-align: right;\n",
              "    }\n",
              "</style>\n",
              "<table border=\"1\" class=\"dataframe\">\n",
              "  <thead>\n",
              "    <tr style=\"text-align: right;\">\n",
              "      <th></th>\n",
              "      <th>age</th>\n",
              "      <th>workclass</th>\n",
              "      <th>fnlwgt</th>\n",
              "      <th>education</th>\n",
              "      <th>education-num</th>\n",
              "      <th>marital-status</th>\n",
              "      <th>occupation</th>\n",
              "      <th>relationship</th>\n",
              "      <th>race</th>\n",
              "      <th>sex</th>\n",
              "      <th>capita-gain</th>\n",
              "      <th>capital-loss</th>\n",
              "      <th>hours-per-week</th>\n",
              "      <th>native-country</th>\n",
              "      <th>income</th>\n",
              "      <th>workclass_treated</th>\n",
              "      <th>education_treated</th>\n",
              "      <th>marital-status_treated</th>\n",
              "      <th>occupation_treated</th>\n",
              "      <th>relationship_treated</th>\n",
              "      <th>race_treated</th>\n",
              "      <th>sex_treated</th>\n",
              "      <th>native-country_treated</th>\n",
              "    </tr>\n",
              "  </thead>\n",
              "  <tbody>\n",
              "    <tr>\n",
              "      <th>8142</th>\n",
              "      <td>38</td>\n",
              "      <td>Local-gov</td>\n",
              "      <td>82880</td>\n",
              "      <td>Bachelors</td>\n",
              "      <td>13</td>\n",
              "      <td>Married-civ-spouse</td>\n",
              "      <td>Prof-specialty</td>\n",
              "      <td>Wife</td>\n",
              "      <td>White</td>\n",
              "      <td>Female</td>\n",
              "      <td>0</td>\n",
              "      <td>0</td>\n",
              "      <td>15</td>\n",
              "      <td>United-States</td>\n",
              "      <td>&lt;=50K</td>\n",
              "      <td>local-gov</td>\n",
              "      <td>bachelors</td>\n",
              "      <td>married-civ-spouse</td>\n",
              "      <td>prof-specialty</td>\n",
              "      <td>wife</td>\n",
              "      <td>white</td>\n",
              "      <td>female</td>\n",
              "      <td>united-states</td>\n",
              "    </tr>\n",
              "    <tr>\n",
              "      <th>14401</th>\n",
              "      <td>37</td>\n",
              "      <td>Self-emp-not-inc</td>\n",
              "      <td>352882</td>\n",
              "      <td>HS-grad</td>\n",
              "      <td>9</td>\n",
              "      <td>Divorced</td>\n",
              "      <td>Exec-managerial</td>\n",
              "      <td>Not-in-family</td>\n",
              "      <td>Asian-Pac-Islander</td>\n",
              "      <td>Female</td>\n",
              "      <td>0</td>\n",
              "      <td>0</td>\n",
              "      <td>70</td>\n",
              "      <td>South</td>\n",
              "      <td>&gt;50K</td>\n",
              "      <td>self-emp-not-inc</td>\n",
              "      <td>hs-grad</td>\n",
              "      <td>divorced</td>\n",
              "      <td>exec-managerial</td>\n",
              "      <td>not-in-family</td>\n",
              "      <td>asian-pac-islander</td>\n",
              "      <td>female</td>\n",
              "      <td>south</td>\n",
              "    </tr>\n",
              "    <tr>\n",
              "      <th>12950</th>\n",
              "      <td>26</td>\n",
              "      <td>Private</td>\n",
              "      <td>380674</td>\n",
              "      <td>HS-grad</td>\n",
              "      <td>9</td>\n",
              "      <td>Never-married</td>\n",
              "      <td>Handlers-cleaners</td>\n",
              "      <td>Own-child</td>\n",
              "      <td>White</td>\n",
              "      <td>Male</td>\n",
              "      <td>0</td>\n",
              "      <td>0</td>\n",
              "      <td>52</td>\n",
              "      <td>United-States</td>\n",
              "      <td>&lt;=50K</td>\n",
              "      <td>private</td>\n",
              "      <td>hs-grad</td>\n",
              "      <td>never-married</td>\n",
              "      <td>handlers-cleaners</td>\n",
              "      <td>own-child</td>\n",
              "      <td>white</td>\n",
              "      <td>male</td>\n",
              "      <td>united-states</td>\n",
              "    </tr>\n",
              "    <tr>\n",
              "      <th>23228</th>\n",
              "      <td>49</td>\n",
              "      <td>?</td>\n",
              "      <td>171411</td>\n",
              "      <td>9th</td>\n",
              "      <td>5</td>\n",
              "      <td>Divorced</td>\n",
              "      <td>?</td>\n",
              "      <td>Not-in-family</td>\n",
              "      <td>White</td>\n",
              "      <td>Male</td>\n",
              "      <td>0</td>\n",
              "      <td>0</td>\n",
              "      <td>40</td>\n",
              "      <td>United-States</td>\n",
              "      <td>&lt;=50K</td>\n",
              "      <td>?</td>\n",
              "      <td>9th</td>\n",
              "      <td>divorced</td>\n",
              "      <td>?</td>\n",
              "      <td>not-in-family</td>\n",
              "      <td>white</td>\n",
              "      <td>male</td>\n",
              "      <td>united-states</td>\n",
              "    </tr>\n",
              "    <tr>\n",
              "      <th>16910</th>\n",
              "      <td>29</td>\n",
              "      <td>Self-emp-inc</td>\n",
              "      <td>241431</td>\n",
              "      <td>Doctorate</td>\n",
              "      <td>16</td>\n",
              "      <td>Married-civ-spouse</td>\n",
              "      <td>Prof-specialty</td>\n",
              "      <td>Husband</td>\n",
              "      <td>White</td>\n",
              "      <td>Male</td>\n",
              "      <td>0</td>\n",
              "      <td>0</td>\n",
              "      <td>35</td>\n",
              "      <td>United-States</td>\n",
              "      <td>&gt;50K</td>\n",
              "      <td>self-emp-inc</td>\n",
              "      <td>doctorate</td>\n",
              "      <td>married-civ-spouse</td>\n",
              "      <td>prof-specialty</td>\n",
              "      <td>husband</td>\n",
              "      <td>white</td>\n",
              "      <td>male</td>\n",
              "      <td>united-states</td>\n",
              "    </tr>\n",
              "    <tr>\n",
              "      <th>20681</th>\n",
              "      <td>55</td>\n",
              "      <td>Private</td>\n",
              "      <td>252714</td>\n",
              "      <td>Assoc-voc</td>\n",
              "      <td>11</td>\n",
              "      <td>Married-civ-spouse</td>\n",
              "      <td>Adm-clerical</td>\n",
              "      <td>Husband</td>\n",
              "      <td>White</td>\n",
              "      <td>Male</td>\n",
              "      <td>0</td>\n",
              "      <td>0</td>\n",
              "      <td>40</td>\n",
              "      <td>United-States</td>\n",
              "      <td>&lt;=50K</td>\n",
              "      <td>private</td>\n",
              "      <td>assoc-voc</td>\n",
              "      <td>married-civ-spouse</td>\n",
              "      <td>adm-clerical</td>\n",
              "      <td>husband</td>\n",
              "      <td>white</td>\n",
              "      <td>male</td>\n",
              "      <td>united-states</td>\n",
              "    </tr>\n",
              "    <tr>\n",
              "      <th>2914</th>\n",
              "      <td>24</td>\n",
              "      <td>Private</td>\n",
              "      <td>228613</td>\n",
              "      <td>11th</td>\n",
              "      <td>7</td>\n",
              "      <td>Never-married</td>\n",
              "      <td>Machine-op-inspct</td>\n",
              "      <td>Unmarried</td>\n",
              "      <td>White</td>\n",
              "      <td>Female</td>\n",
              "      <td>0</td>\n",
              "      <td>0</td>\n",
              "      <td>40</td>\n",
              "      <td>United-States</td>\n",
              "      <td>&lt;=50K</td>\n",
              "      <td>private</td>\n",
              "      <td>11th</td>\n",
              "      <td>never-married</td>\n",
              "      <td>machine-op-inspct</td>\n",
              "      <td>unmarried</td>\n",
              "      <td>white</td>\n",
              "      <td>female</td>\n",
              "      <td>united-states</td>\n",
              "    </tr>\n",
              "    <tr>\n",
              "      <th>24815</th>\n",
              "      <td>50</td>\n",
              "      <td>Private</td>\n",
              "      <td>23686</td>\n",
              "      <td>Some-college</td>\n",
              "      <td>10</td>\n",
              "      <td>Married-civ-spouse</td>\n",
              "      <td>Adm-clerical</td>\n",
              "      <td>Other-relative</td>\n",
              "      <td>White</td>\n",
              "      <td>Female</td>\n",
              "      <td>0</td>\n",
              "      <td>0</td>\n",
              "      <td>35</td>\n",
              "      <td>United-States</td>\n",
              "      <td>&gt;50K</td>\n",
              "      <td>private</td>\n",
              "      <td>some-college</td>\n",
              "      <td>married-civ-spouse</td>\n",
              "      <td>adm-clerical</td>\n",
              "      <td>other-relative</td>\n",
              "      <td>white</td>\n",
              "      <td>female</td>\n",
              "      <td>united-states</td>\n",
              "    </tr>\n",
              "    <tr>\n",
              "      <th>17403</th>\n",
              "      <td>45</td>\n",
              "      <td>Private</td>\n",
              "      <td>97176</td>\n",
              "      <td>11th</td>\n",
              "      <td>7</td>\n",
              "      <td>Divorced</td>\n",
              "      <td>Adm-clerical</td>\n",
              "      <td>Unmarried</td>\n",
              "      <td>White</td>\n",
              "      <td>Female</td>\n",
              "      <td>0</td>\n",
              "      <td>0</td>\n",
              "      <td>16</td>\n",
              "      <td>United-States</td>\n",
              "      <td>&lt;=50K</td>\n",
              "      <td>private</td>\n",
              "      <td>11th</td>\n",
              "      <td>divorced</td>\n",
              "      <td>adm-clerical</td>\n",
              "      <td>unmarried</td>\n",
              "      <td>white</td>\n",
              "      <td>female</td>\n",
              "      <td>united-states</td>\n",
              "    </tr>\n",
              "    <tr>\n",
              "      <th>24628</th>\n",
              "      <td>56</td>\n",
              "      <td>Self-emp-not-inc</td>\n",
              "      <td>176280</td>\n",
              "      <td>HS-grad</td>\n",
              "      <td>9</td>\n",
              "      <td>Divorced</td>\n",
              "      <td>Other-service</td>\n",
              "      <td>Not-in-family</td>\n",
              "      <td>White</td>\n",
              "      <td>Male</td>\n",
              "      <td>0</td>\n",
              "      <td>0</td>\n",
              "      <td>50</td>\n",
              "      <td>United-States</td>\n",
              "      <td>&lt;=50K</td>\n",
              "      <td>self-emp-not-inc</td>\n",
              "      <td>hs-grad</td>\n",
              "      <td>divorced</td>\n",
              "      <td>other-service</td>\n",
              "      <td>not-in-family</td>\n",
              "      <td>white</td>\n",
              "      <td>male</td>\n",
              "      <td>united-states</td>\n",
              "    </tr>\n",
              "  </tbody>\n",
              "</table>\n",
              "</div>"
            ],
            "text/plain": [
              "       age          workclass  ...  sex_treated native-country_treated\n",
              "8142    38          Local-gov  ...       female          united-states\n",
              "14401   37   Self-emp-not-inc  ...       female                  south\n",
              "12950   26            Private  ...         male          united-states\n",
              "23228   49                  ?  ...         male          united-states\n",
              "16910   29       Self-emp-inc  ...         male          united-states\n",
              "20681   55            Private  ...         male          united-states\n",
              "2914    24            Private  ...       female          united-states\n",
              "24815   50            Private  ...       female          united-states\n",
              "17403   45            Private  ...       female          united-states\n",
              "24628   56   Self-emp-not-inc  ...         male          united-states\n",
              "\n",
              "[10 rows x 23 columns]"
            ]
          },
          "metadata": {
            "tags": []
          },
          "execution_count": 9
        }
      ]
    },
    {
      "cell_type": "markdown",
      "metadata": {
        "id": "8mHPhmUhuOFZ"
      },
      "source": [
        "It's time to check if the unique values set on **workclass_treated** contains \"?\" instead of \" ?\":"
      ]
    },
    {
      "cell_type": "code",
      "metadata": {
        "colab": {
          "base_uri": "https://localhost:8080/"
        },
        "id": "33YnoK6svvTB",
        "outputId": "b8411b0a-9c2e-494e-a640-2bb615e5a670"
      },
      "source": [
        "group_train_workclass_treated = train[\"workclass_treated\"].value_counts()\n",
        "print(group_train_workclass_treated)\n",
        "unique_workclass_values_treated = set(list((group_train_workclass_treated.index)))\n",
        "print(unique_workclass_values_treated)"
      ],
      "execution_count": null,
      "outputs": [
        {
          "output_type": "stream",
          "text": [
            "private             22696\n",
            "self-emp-not-inc     2541\n",
            "local-gov            2093\n",
            "?                    1836\n",
            "state-gov            1298\n",
            "self-emp-inc         1116\n",
            "federal-gov           960\n",
            "without-pay            14\n",
            "never-worked            7\n",
            "Name: workclass_treated, dtype: int64\n",
            "{'state-gov', 'federal-gov', 'never-worked', 'private', 'without-pay', 'self-emp-inc', 'self-emp-not-inc', '?', 'local-gov'}\n"
          ],
          "name": "stdout"
        }
      ]
    },
    {
      "cell_type": "markdown",
      "metadata": {
        "id": "-5Dfp-zcwPcd"
      },
      "source": [
        "The \" ?\" was successfully replaced by \"?\". The unknown values will be removed:"
      ]
    },
    {
      "cell_type": "code",
      "metadata": {
        "colab": {
          "base_uri": "https://localhost:8080/"
        },
        "id": "PcQUw9vCihbj",
        "outputId": "75f7d5e6-38df-472d-aa90-d72f2f9a531f"
      },
      "source": [
        "remove_list = [\"?\"]\n",
        "train = train[~train[\"workclass_treated\"].isin(remove_list)]\n",
        "print(train)"
      ],
      "execution_count": null,
      "outputs": [
        {
          "output_type": "stream",
          "text": [
            "       age          workclass  ...  sex_treated native-country_treated\n",
            "0       39          State-gov  ...         male          united-states\n",
            "1       50   Self-emp-not-inc  ...         male          united-states\n",
            "2       38            Private  ...         male          united-states\n",
            "3       53            Private  ...         male          united-states\n",
            "4       28            Private  ...       female                   cuba\n",
            "...    ...                ...  ...          ...                    ...\n",
            "32556   27            Private  ...       female          united-states\n",
            "32557   40            Private  ...         male          united-states\n",
            "32558   58            Private  ...       female          united-states\n",
            "32559   22            Private  ...         male          united-states\n",
            "32560   52       Self-emp-inc  ...       female          united-states\n",
            "\n",
            "[30725 rows x 23 columns]\n"
          ],
          "name": "stdout"
        }
      ]
    },
    {
      "cell_type": "markdown",
      "metadata": {
        "id": "Wd8osKCcoF4N"
      },
      "source": [
        "Following the same procedure with **education column**:\n"
      ]
    },
    {
      "cell_type": "code",
      "metadata": {
        "colab": {
          "base_uri": "https://localhost:8080/"
        },
        "id": "dIbRrWH9oQJi",
        "outputId": "46183367-f813-4c0c-c51c-c1e79de17a50"
      },
      "source": [
        "group_train_education = train[\"education_treated\"].value_counts()\n",
        "print(group_train_education)\n",
        "unique_education_values = set(list((group_train_education.index)))\n",
        "print(unique_education_values)"
      ],
      "execution_count": null,
      "outputs": [
        {
          "output_type": "stream",
          "text": [
            "hs-grad         9969\n",
            "some-college    6777\n",
            "bachelors       5182\n",
            "masters         1675\n",
            "assoc-voc       1321\n",
            "11th            1057\n",
            "assoc-acdm      1020\n",
            "10th             833\n",
            "7th-8th          574\n",
            "prof-school      558\n",
            "9th              463\n",
            "doctorate        398\n",
            "12th             393\n",
            "5th-6th          303\n",
            "1st-4th          156\n",
            "preschool         46\n",
            "Name: education_treated, dtype: int64\n",
            "{'bachelors', '11th', '9th', '5th-6th', '1st-4th', 'hs-grad', '7th-8th', 'assoc-voc', 'assoc-acdm', '10th', 'preschool', 'doctorate', 'some-college', '12th', 'prof-school', 'masters'}\n"
          ],
          "name": "stdout"
        }
      ]
    },
    {
      "cell_type": "markdown",
      "metadata": {
        "id": "M-WqiMGUowpo"
      },
      "source": [
        "There is not unknown category on this column. Following with  **marital-status**\n"
      ]
    },
    {
      "cell_type": "code",
      "metadata": {
        "colab": {
          "base_uri": "https://localhost:8080/"
        },
        "id": "4IvT9o5cw3yM",
        "outputId": "2eba713d-e037-409b-fd73-a64e8e5698d9"
      },
      "source": [
        "group_train_marital_status = train[\"marital-status_treated\"].value_counts()\n",
        "print(group_train_marital_status)\n",
        "unique_marital_status_values = set(list((group_train_marital_status.index)))\n",
        "print(unique_marital_status_values)"
      ],
      "execution_count": null,
      "outputs": [
        {
          "output_type": "stream",
          "text": [
            "married-civ-spouse       14340\n",
            "never-married             9917\n",
            "divorced                  4259\n",
            "separated                  959\n",
            "widowed                    840\n",
            "married-spouse-absent      389\n",
            "married-af-spouse           21\n",
            "Name: marital-status_treated, dtype: int64\n",
            "{'married-civ-spouse', 'separated', 'widowed', 'married-spouse-absent', 'married-af-spouse', 'divorced', 'never-married'}\n"
          ],
          "name": "stdout"
        }
      ]
    },
    {
      "cell_type": "markdown",
      "metadata": {
        "id": "IJvVbMTKyEng"
      },
      "source": [
        "There is not unknown values on this column. **Occupation** column:"
      ]
    },
    {
      "cell_type": "code",
      "metadata": {
        "colab": {
          "base_uri": "https://localhost:8080/"
        },
        "id": "GOuddde-yaoM",
        "outputId": "44e36317-ed51-4bd3-cba5-a1d493234c60"
      },
      "source": [
        "group_train_occupation = train[\"occupation_treated\"].value_counts()\n",
        "print(group_train_occupation)\n",
        "unique_occupation_values = set(list((group_train_occupation.index)))\n",
        "print(unique_occupation_values)"
      ],
      "execution_count": null,
      "outputs": [
        {
          "output_type": "stream",
          "text": [
            "prof-specialty       4140\n",
            "craft-repair         4099\n",
            "exec-managerial      4066\n",
            "adm-clerical         3770\n",
            "sales                3650\n",
            "other-service        3295\n",
            "machine-op-inspct    2002\n",
            "transport-moving     1597\n",
            "handlers-cleaners    1370\n",
            "farming-fishing       994\n",
            "tech-support          928\n",
            "protective-serv       649\n",
            "priv-house-serv       149\n",
            "armed-forces            9\n",
            "?                       7\n",
            "Name: occupation_treated, dtype: int64\n",
            "{'adm-clerical', 'farming-fishing', 'priv-house-serv', 'craft-repair', 'prof-specialty', 'transport-moving', 'tech-support', 'exec-managerial', 'sales', 'handlers-cleaners', 'machine-op-inspct', 'protective-serv', 'armed-forces', 'other-service', '?'}\n"
          ],
          "name": "stdout"
        }
      ]
    },
    {
      "cell_type": "markdown",
      "metadata": {
        "id": "cr5U0pE4yuuJ"
      },
      "source": [
        "The occupation column also presents \"?\" category. The unknown rows will be removed."
      ]
    },
    {
      "cell_type": "code",
      "metadata": {
        "colab": {
          "base_uri": "https://localhost:8080/"
        },
        "id": "_6sWeTWtDs91",
        "outputId": "828b47e4-c63d-49fa-ef22-9e44be7b71ad"
      },
      "source": [
        "train = train[~train[\"occupation_treated\"].isin(remove_list)]\n",
        "print(train)"
      ],
      "execution_count": null,
      "outputs": [
        {
          "output_type": "stream",
          "text": [
            "       age          workclass  ...  sex_treated native-country_treated\n",
            "0       39          State-gov  ...         male          united-states\n",
            "1       50   Self-emp-not-inc  ...         male          united-states\n",
            "2       38            Private  ...         male          united-states\n",
            "3       53            Private  ...         male          united-states\n",
            "4       28            Private  ...       female                   cuba\n",
            "...    ...                ...  ...          ...                    ...\n",
            "32556   27            Private  ...       female          united-states\n",
            "32557   40            Private  ...         male          united-states\n",
            "32558   58            Private  ...       female          united-states\n",
            "32559   22            Private  ...         male          united-states\n",
            "32560   52       Self-emp-inc  ...       female          united-states\n",
            "\n",
            "[30718 rows x 23 columns]\n"
          ],
          "name": "stdout"
        }
      ]
    },
    {
      "cell_type": "markdown",
      "metadata": {
        "id": "vt7ir22bkXut"
      },
      "source": [
        "Now, the **Relationship** column:"
      ]
    },
    {
      "cell_type": "code",
      "metadata": {
        "colab": {
          "base_uri": "https://localhost:8080/"
        },
        "id": "YcFceaBIlN4W",
        "outputId": "fa15d0c1-e67f-4203-b31d-efe8d2ede025"
      },
      "source": [
        "group_train_relationship = train[\"relationship_treated\"].value_counts()\n",
        "print(group_train_relationship)\n",
        "unique_relationship_values = set(list((group_train_relationship.index)))\n",
        "print(unique_relationship_values)"
      ],
      "execution_count": null,
      "outputs": [
        {
          "output_type": "stream",
          "text": [
            "husband           12704\n",
            "not-in-family      7865\n",
            "own-child          4525\n",
            "unmarried          3271\n",
            "wife               1435\n",
            "other-relative      918\n",
            "Name: relationship_treated, dtype: int64\n",
            "{'wife', 'husband', 'unmarried', 'own-child', 'not-in-family', 'other-relative'}\n"
          ],
          "name": "stdout"
        }
      ]
    },
    {
      "cell_type": "markdown",
      "metadata": {
        "id": "eKe7uUDhmk86"
      },
      "source": [
        "There is no unknown category. **The number of 'wife' reported status is approximately ten times less than the occurrence of husband status**. What is the most reported female relationship status? "
      ]
    },
    {
      "cell_type": "code",
      "metadata": {
        "colab": {
          "base_uri": "https://localhost:8080/",
          "height": 731
        },
        "id": "YK4lo5oEnA91",
        "outputId": "9dc20028-7be2-4c7a-9e6b-65a7e2cac240"
      },
      "source": [
        "import matplotlib.pyplot as plt\n",
        "female_train = train[train[\"sex_treated\"] == 'female']\n",
        "female_grouped_by_relationship_train = female_train[\"relationship_treated\"].value_counts()\n",
        "f, ax = plt.subplots(1, 1, figsize = (15, 10))\n",
        "plt.bar(female_grouped_by_relationship_train.index, height =female_grouped_by_relationship_train.values )\n",
        "plt.xlabel(\"Female relationship status\", fontsize = 15)\n",
        "plt.ylabel(\"Count\", fontsize = 15)\n",
        "plt.xticks(fontsize = 13)\n",
        "plt.yticks(fontsize = 13)\n",
        "plt.show()\n",
        "print(female_grouped_by_relationship_train)"
      ],
      "execution_count": null,
      "outputs": [
        {
          "output_type": "display_data",
          "data": {
            "image/png": "[encoded data removed]",
            "text/plain": [
              "<Figure size 1080x720 with 1 Axes>"
            ]
          },
          "metadata": {
            "tags": [],
            "needs_background": "light"
          }
        },
        {
          "output_type": "stream",
          "text": [
            "not-in-family     3607\n",
            "unmarried         2506\n",
            "own-child         1989\n",
            "wife              1433\n",
            "other-relative     394\n",
            "husband              1\n",
            "Name: relationship_treated, dtype: int64\n"
          ],
          "name": "stdout"
        }
      ]
    },
    {
      "cell_type": "markdown",
      "metadata": {
        "id": "Dw2LjmB1tHGD"
      },
      "source": [
        "The most reported female relationship status was 'not-in-family'. There is only one occurrence of 'husband' relationship status for women. Therefore, a woman reporting 'husband' relationship status is a rare event. This category could be joined with 'other-relative' to construct a new category called 'others'. This question will be investigated ahead on correlation matrix step. Additionaly,other plots will be done with final count after removing all unknown values. There preliminary plot are just to better know the dataset.\n",
        "\n",
        "And for men: \n"
      ]
    },
    {
      "cell_type": "code",
      "metadata": {
        "colab": {
          "base_uri": "https://localhost:8080/",
          "height": 731
        },
        "id": "9bH0NcAXtlA0",
        "outputId": "73f71f74-54ee-4a1a-cfac-c85cb72029f9"
      },
      "source": [
        "male_train = train[train[\"sex_treated\"] == 'male']\n",
        "male_grouped_by_relationship_train = male_train[\"relationship_treated\"].value_counts()\n",
        "f, ax = plt.subplots(1, 1, figsize = (15, 10))\n",
        "plt.bar(male_grouped_by_relationship_train.index, height =male_grouped_by_relationship_train.values )\n",
        "plt.xlabel(\"Male relationship status\", fontsize = 15)\n",
        "plt.ylabel(\"Count\", fontsize = 15)\n",
        "plt.xticks(fontsize = 13)\n",
        "plt.yticks(fontsize = 13)\n",
        "plt.show()\n",
        "print(male_grouped_by_relationship_train)"
      ],
      "execution_count": null,
      "outputs": [
        {
          "output_type": "display_data",
          "data": {
            "image/png": "[encoded data removed]",
            "text/plain": [
              "<Figure size 1080x720 with 1 Axes>"
            ]
          },
          "metadata": {
            "tags": [],
            "needs_background": "light"
          }
        },
        {
          "output_type": "stream",
          "text": [
            "husband           12703\n",
            "not-in-family      4258\n",
            "own-child          2536\n",
            "unmarried           765\n",
            "other-relative      524\n",
            "wife                  2\n",
            "Name: relationship_treated, dtype: int64\n"
          ],
          "name": "stdout"
        }
      ]
    },
    {
      "cell_type": "markdown",
      "metadata": {
        "id": "83ghS7syt6hw"
      },
      "source": [
        "The most reported male relationship status was 'husband'. Again the same observed pattern for women, only two men reported 'wife' relationship status, this is a rare class that could be joined with other-relative when sex = male. This will be considered ahead. At this moment, there is nothing to be removed due to 'relationship' status. Following with **'race' column**:"
      ]
    },
    {
      "cell_type": "code",
      "metadata": {
        "colab": {
          "base_uri": "https://localhost:8080/"
        },
        "id": "xma68Qu2woFT",
        "outputId": "5743727a-60eb-4e48-9522-90f5f2af5c05"
      },
      "source": [
        "group_train_race = train[\"race_treated\"].value_counts()\n",
        "print(group_train_race)\n",
        "unique_race_values = set(list((group_train_race.index)))\n",
        "print(unique_race_values)"
      ],
      "execution_count": null,
      "outputs": [
        {
          "output_type": "stream",
          "text": [
            "white                 26301\n",
            "black                  2909\n",
            "asian-pac-islander      974\n",
            "amer-indian-eskimo      286\n",
            "other                   248\n",
            "Name: race_treated, dtype: int64\n",
            "{'black', 'other', 'white', 'amer-indian-eskimo', 'asian-pac-islander'}\n"
          ],
          "name": "stdout"
        }
      ]
    },
    {
      "cell_type": "markdown",
      "metadata": {
        "id": "cQB54Lgkw7EM"
      },
      "source": [
        "There is not unknown values on this columns. The less reported class, 'other' has a small percentage of data:"
      ]
    },
    {
      "cell_type": "code",
      "metadata": {
        "colab": {
          "base_uri": "https://localhost:8080/"
        },
        "id": "qZ0Tq_6UxdMO",
        "outputId": "efadb6bb-652f-4ab7-975c-37f783a23411"
      },
      "source": [
        "import numpy as np\n",
        "print(\"The 'other' reported race appeared on {}% or rows\".format(np.round(group_train_race.values[-1]*100/train.shape[0],2)))"
      ],
      "execution_count": null,
      "outputs": [
        {
          "output_type": "stream",
          "text": [
            "The 'other' reported race appeared on 0.81% or rows\n"
          ],
          "name": "stdout"
        }
      ]
    },
    {
      "cell_type": "markdown",
      "metadata": {
        "id": "fgplsFw6yQIg"
      },
      "source": [
        "The next column is **'sex'**:"
      ]
    },
    {
      "cell_type": "code",
      "metadata": {
        "colab": {
          "base_uri": "https://localhost:8080/"
        },
        "id": "PgjWbUg3yp5P",
        "outputId": "c4699bbf-edcb-4087-9f9c-83856d89eef8"
      },
      "source": [
        "group_train_sex = train[\"sex_treated\"].value_counts()\n",
        "print(group_train_sex)\n",
        "unique_sex_values = set(list((group_train_sex.index)))\n",
        "print(unique_sex_values)"
      ],
      "execution_count": null,
      "outputs": [
        {
          "output_type": "stream",
          "text": [
            "male      20788\n",
            "female     9930\n",
            "Name: sex_treated, dtype: int64\n",
            "{'female', 'male'}\n"
          ],
          "name": "stdout"
        }
      ]
    },
    {
      "cell_type": "markdown",
      "metadata": {
        "id": "DNnVwjxwy35f"
      },
      "source": [
        "There is not unknown category on 'sex' column. The next categorical column is **'native_country'**:"
      ]
    },
    {
      "cell_type": "code",
      "metadata": {
        "colab": {
          "base_uri": "https://localhost:8080/"
        },
        "id": "6p5XwRfTzGuo",
        "outputId": "f89a96b9-f967-4448-f403-b0d222b72a0b"
      },
      "source": [
        "group_train_country = train[\"native-country_treated\"].value_counts()\n",
        "print(group_train_country)\n",
        "unique_country_values = set(list((group_train_country.index)))\n",
        "print(unique_country_values)"
      ],
      "execution_count": null,
      "outputs": [
        {
          "output_type": "stream",
          "text": [
            "united-states                 27504\n",
            "mexico                          610\n",
            "?                               556\n",
            "philippines                     188\n",
            "germany                         128\n",
            "puerto-rico                     109\n",
            "canada                          107\n",
            "el-salvador                     100\n",
            "india                           100\n",
            "cuba                             92\n",
            "england                          86\n",
            "jamaica                          80\n",
            "south                            71\n",
            "china                            68\n",
            "italy                            68\n",
            "dominican-republic               67\n",
            "vietnam                          64\n",
            "guatemala                        63\n",
            "japan                            59\n",
            "columbia                         56\n",
            "poland                           56\n",
            "taiwan                           42\n",
            "haiti                            42\n",
            "iran                             42\n",
            "portugal                         34\n",
            "nicaragua                        33\n",
            "peru                             30\n",
            "greece                           29\n",
            "ecuador                          27\n",
            "france                           27\n",
            "ireland                          24\n",
            "hong                             19\n",
            "cambodia                         18\n",
            "trinadad&tobago                  18\n",
            "laos                             17\n",
            "thailand                         17\n",
            "yugoslavia                       16\n",
            "outlying-us(guam-usvi-etc)       14\n",
            "hungary                          13\n",
            "honduras                         12\n",
            "scotland                         11\n",
            "holand-netherlands                1\n",
            "Name: native-country_treated, dtype: int64\n",
            "{'laos', 'cuba', 'germany', 'yugoslavia', 'columbia', 'el-salvador', 'dominican-republic', 'outlying-us(guam-usvi-etc)', 'south', 'haiti', 'holand-netherlands', 'united-states', 'canada', 'india', 'scotland', 'greece', 'portugal', 'japan', 'iran', 'jamaica', 'ecuador', 'trinadad&tobago', 'china', 'philippines', 'ireland', 'hungary', 'england', 'peru', 'taiwan', 'mexico', 'puerto-rico', 'france', 'vietnam', 'cambodia', 'poland', 'honduras', 'guatemala', 'thailand', 'nicaragua', 'hong', 'italy', '?'}\n"
          ],
          "name": "stdout"
        }
      ]
    },
    {
      "cell_type": "markdown",
      "metadata": {
        "id": "xWDCRqPSzTgp"
      },
      "source": [
        "Removing the '?' data:"
      ]
    },
    {
      "cell_type": "code",
      "metadata": {
        "colab": {
          "base_uri": "https://localhost:8080/"
        },
        "id": "a2iL16X4zdWC",
        "outputId": "0f1b0563-a19c-49e0-d617-7b7c4daecb05"
      },
      "source": [
        "train = train[~train[\"native-country_treated\"].isin(remove_list)]\n",
        "print(\"After removing all unknow data, the number of rown on train dataset is {}.\".format(train.shape[0]))"
      ],
      "execution_count": null,
      "outputs": [
        {
          "output_type": "stream",
          "text": [
            "After removing all unknow data, the number of rown on train dataset is 30162.\n"
          ],
          "name": "stdout"
        }
      ]
    },
    {
      "cell_type": "markdown",
      "metadata": {
        "id": "OUN9be1fz0YS"
      },
      "source": [
        "This is precisely the number of train dataset rows reported by authors after removing the unknown data. This information can be checked on https://github.com/amandaventurac/Income_predictor/blob/main/metadata.names, line 9.\n",
        "This validates the performed cleaning proccess. Now the old categorical columns before treatment can be dropped:\n",
        "\n"
      ]
    },
    {
      "cell_type": "code",
      "metadata": {
        "colab": {
          "base_uri": "https://localhost:8080/",
          "height": 301
        },
        "id": "QQyIv2j91BfI",
        "outputId": "d4a2acb8-21f6-479b-e846-5b61c2162d81"
      },
      "source": [
        "train.drop(labels = [\"workclass\",\"education\",\"marital-status\",\"occupation\",\"relationship\",\"race\",\"sex\",\"native-country\"], axis = 1, inplace = True)\n",
        "train.head()"
      ],
      "execution_count": null,
      "outputs": [
        {
          "output_type": "execute_result",
          "data": {
            "text/html": [
              "<div>\n",
              "<style scoped>\n",
              "    .dataframe tbody tr th:only-of-type {\n",
              "        vertical-align: middle;\n",
              "    }\n",
              "\n",
              "    .dataframe tbody tr th {\n",
              "        vertical-align: top;\n",
              "    }\n",
              "\n",
              "    .dataframe thead th {\n",
              "        text-align: right;\n",
              "    }\n",
              "</style>\n",
              "<table border=\"1\" class=\"dataframe\">\n",
              "  <thead>\n",
              "    <tr style=\"text-align: right;\">\n",
              "      <th></th>\n",
              "      <th>age</th>\n",
              "      <th>fnlwgt</th>\n",
              "      <th>education-num</th>\n",
              "      <th>capita-gain</th>\n",
              "      <th>capital-loss</th>\n",
              "      <th>hours-per-week</th>\n",
              "      <th>income</th>\n",
              "      <th>workclass_treated</th>\n",
              "      <th>education_treated</th>\n",
              "      <th>marital-status_treated</th>\n",
              "      <th>occupation_treated</th>\n",
              "      <th>relationship_treated</th>\n",
              "      <th>race_treated</th>\n",
              "      <th>sex_treated</th>\n",
              "      <th>native-country_treated</th>\n",
              "    </tr>\n",
              "  </thead>\n",
              "  <tbody>\n",
              "    <tr>\n",
              "      <th>0</th>\n",
              "      <td>39</td>\n",
              "      <td>77516</td>\n",
              "      <td>13</td>\n",
              "      <td>2174</td>\n",
              "      <td>0</td>\n",
              "      <td>40</td>\n",
              "      <td>&lt;=50K</td>\n",
              "      <td>state-gov</td>\n",
              "      <td>bachelors</td>\n",
              "      <td>never-married</td>\n",
              "      <td>adm-clerical</td>\n",
              "      <td>not-in-family</td>\n",
              "      <td>white</td>\n",
              "      <td>male</td>\n",
              "      <td>united-states</td>\n",
              "    </tr>\n",
              "    <tr>\n",
              "      <th>1</th>\n",
              "      <td>50</td>\n",
              "      <td>83311</td>\n",
              "      <td>13</td>\n",
              "      <td>0</td>\n",
              "      <td>0</td>\n",
              "      <td>13</td>\n",
              "      <td>&lt;=50K</td>\n",
              "      <td>self-emp-not-inc</td>\n",
              "      <td>bachelors</td>\n",
              "      <td>married-civ-spouse</td>\n",
              "      <td>exec-managerial</td>\n",
              "      <td>husband</td>\n",
              "      <td>white</td>\n",
              "      <td>male</td>\n",
              "      <td>united-states</td>\n",
              "    </tr>\n",
              "    <tr>\n",
              "      <th>2</th>\n",
              "      <td>38</td>\n",
              "      <td>215646</td>\n",
              "      <td>9</td>\n",
              "      <td>0</td>\n",
              "      <td>0</td>\n",
              "      <td>40</td>\n",
              "      <td>&lt;=50K</td>\n",
              "      <td>private</td>\n",
              "      <td>hs-grad</td>\n",
              "      <td>divorced</td>\n",
              "      <td>handlers-cleaners</td>\n",
              "      <td>not-in-family</td>\n",
              "      <td>white</td>\n",
              "      <td>male</td>\n",
              "      <td>united-states</td>\n",
              "    </tr>\n",
              "    <tr>\n",
              "      <th>3</th>\n",
              "      <td>53</td>\n",
              "      <td>234721</td>\n",
              "      <td>7</td>\n",
              "      <td>0</td>\n",
              "      <td>0</td>\n",
              "      <td>40</td>\n",
              "      <td>&lt;=50K</td>\n",
              "      <td>private</td>\n",
              "      <td>11th</td>\n",
              "      <td>married-civ-spouse</td>\n",
              "      <td>handlers-cleaners</td>\n",
              "      <td>husband</td>\n",
              "      <td>black</td>\n",
              "      <td>male</td>\n",
              "      <td>united-states</td>\n",
              "    </tr>\n",
              "    <tr>\n",
              "      <th>4</th>\n",
              "      <td>28</td>\n",
              "      <td>338409</td>\n",
              "      <td>13</td>\n",
              "      <td>0</td>\n",
              "      <td>0</td>\n",
              "      <td>40</td>\n",
              "      <td>&lt;=50K</td>\n",
              "      <td>private</td>\n",
              "      <td>bachelors</td>\n",
              "      <td>married-civ-spouse</td>\n",
              "      <td>prof-specialty</td>\n",
              "      <td>wife</td>\n",
              "      <td>black</td>\n",
              "      <td>female</td>\n",
              "      <td>cuba</td>\n",
              "    </tr>\n",
              "  </tbody>\n",
              "</table>\n",
              "</div>"
            ],
            "text/plain": [
              "   age  fnlwgt  education-num  ...  race_treated  sex_treated  native-country_treated\n",
              "0   39   77516             13  ...         white         male           united-states\n",
              "1   50   83311             13  ...         white         male           united-states\n",
              "2   38  215646              9  ...         white         male           united-states\n",
              "3   53  234721              7  ...         black         male           united-states\n",
              "4   28  338409             13  ...         black       female                    cuba\n",
              "\n",
              "[5 rows x 15 columns]"
            ]
          },
          "metadata": {
            "tags": []
          },
          "execution_count": 23
        }
      ]
    },
    {
      "cell_type": "markdown",
      "metadata": {
        "id": "B63Coot83n8B"
      },
      "source": [
        "It is neccessary to do the same cleaning process on test dataset.\n",
        "To be more efficient, it is useful to copy all the relevant code above, replace \"train\" by \"test\", and paste it here. "
      ]
    },
    {
      "cell_type": "code",
      "metadata": {
        "colab": {
          "base_uri": "https://localhost:8080/",
          "height": 317
        },
        "id": "3kaBkNP_3rbk",
        "outputId": "b6c84a89-b4f6-4b6c-ecac-82509be2be32"
      },
      "source": [
        "for element in [\"workclass\",\"education\",\"marital-status\",\"occupation\",\"relationship\",\"race\",\"sex\",\"native-country\"]:\n",
        "  treated_column_name = element+\"_treated\"\n",
        "  test[treated_column_name] = test[element].apply(remove_space_and_lower_case)\n",
        "\n",
        "group_test_workclass_treated = test[\"workclass_treated\"].value_counts()\n",
        "unique_workclass_values_treated = set(list((group_test_workclass_treated.index)))\n",
        "remove_list = [\"?\"]\n",
        "test = test[~test[\"workclass_treated\"].isin(remove_list)]\n",
        "group_test_education = test[\"education_treated\"].value_counts()\n",
        "unique_education_values = set(list((group_test_education.index)))\n",
        "group_test_marital_status = test[\"marital-status_treated\"].value_counts()\n",
        "unique_marital_status_values = set(list((group_test_marital_status.index)))\n",
        "group_test_occupation = test[\"occupation_treated\"].value_counts()\n",
        "unique_occupation_values = set(list((group_test_occupation.index)))\n",
        "test = test[~test[\"occupation_treated\"].isin(remove_list)]\n",
        "group_test_relationship = test[\"relationship_treated\"].value_counts()\n",
        "unique_relationship_values = set(list((group_test_relationship.index)))\n",
        "group_test_race = test[\"race_treated\"].value_counts()\n",
        "unique_race_values = set(list((group_test_race.index)))\n",
        "group_test_sex = test[\"sex_treated\"].value_counts()\n",
        "unique_sex_values = set(list((group_test_sex.index)))\n",
        "group_test_country = test[\"native-country_treated\"].value_counts()\n",
        "unique_country_values = set(list((group_test_country.index)))\n",
        "test = test[~test[\"native-country_treated\"].isin(remove_list)]\n",
        "test.drop(labels = [\"workclass\",\"education\",\"marital-status\",\"occupation\",\"relationship\",\"race\",\"sex\",\"native-country\"], axis = 1, inplace = True)\n",
        "display(test.head())\n",
        "print(\"After removing all unknow data, the number of rown on test dataset is {}.\".format(test.shape[0]))\n"
      ],
      "execution_count": null,
      "outputs": [
        {
          "output_type": "display_data",
          "data": {
            "text/html": [
              "<div>\n",
              "<style scoped>\n",
              "    .dataframe tbody tr th:only-of-type {\n",
              "        vertical-align: middle;\n",
              "    }\n",
              "\n",
              "    .dataframe tbody tr th {\n",
              "        vertical-align: top;\n",
              "    }\n",
              "\n",
              "    .dataframe thead th {\n",
              "        text-align: right;\n",
              "    }\n",
              "</style>\n",
              "<table border=\"1\" class=\"dataframe\">\n",
              "  <thead>\n",
              "    <tr style=\"text-align: right;\">\n",
              "      <th></th>\n",
              "      <th>age</th>\n",
              "      <th>fnlwgt</th>\n",
              "      <th>education-num</th>\n",
              "      <th>capita-gain</th>\n",
              "      <th>capital-loss</th>\n",
              "      <th>hours-per-week</th>\n",
              "      <th>income</th>\n",
              "      <th>workclass_treated</th>\n",
              "      <th>education_treated</th>\n",
              "      <th>marital-status_treated</th>\n",
              "      <th>occupation_treated</th>\n",
              "      <th>relationship_treated</th>\n",
              "      <th>race_treated</th>\n",
              "      <th>sex_treated</th>\n",
              "      <th>native-country_treated</th>\n",
              "    </tr>\n",
              "  </thead>\n",
              "  <tbody>\n",
              "    <tr>\n",
              "      <th>0</th>\n",
              "      <td>25</td>\n",
              "      <td>226802</td>\n",
              "      <td>7</td>\n",
              "      <td>0</td>\n",
              "      <td>0</td>\n",
              "      <td>40</td>\n",
              "      <td>&lt;=50K.</td>\n",
              "      <td>private</td>\n",
              "      <td>11th</td>\n",
              "      <td>never-married</td>\n",
              "      <td>machine-op-inspct</td>\n",
              "      <td>own-child</td>\n",
              "      <td>black</td>\n",
              "      <td>male</td>\n",
              "      <td>united-states</td>\n",
              "    </tr>\n",
              "    <tr>\n",
              "      <th>1</th>\n",
              "      <td>38</td>\n",
              "      <td>89814</td>\n",
              "      <td>9</td>\n",
              "      <td>0</td>\n",
              "      <td>0</td>\n",
              "      <td>50</td>\n",
              "      <td>&lt;=50K.</td>\n",
              "      <td>private</td>\n",
              "      <td>hs-grad</td>\n",
              "      <td>married-civ-spouse</td>\n",
              "      <td>farming-fishing</td>\n",
              "      <td>husband</td>\n",
              "      <td>white</td>\n",
              "      <td>male</td>\n",
              "      <td>united-states</td>\n",
              "    </tr>\n",
              "    <tr>\n",
              "      <th>2</th>\n",
              "      <td>28</td>\n",
              "      <td>336951</td>\n",
              "      <td>12</td>\n",
              "      <td>0</td>\n",
              "      <td>0</td>\n",
              "      <td>40</td>\n",
              "      <td>&gt;50K.</td>\n",
              "      <td>local-gov</td>\n",
              "      <td>assoc-acdm</td>\n",
              "      <td>married-civ-spouse</td>\n",
              "      <td>protective-serv</td>\n",
              "      <td>husband</td>\n",
              "      <td>white</td>\n",
              "      <td>male</td>\n",
              "      <td>united-states</td>\n",
              "    </tr>\n",
              "    <tr>\n",
              "      <th>3</th>\n",
              "      <td>44</td>\n",
              "      <td>160323</td>\n",
              "      <td>10</td>\n",
              "      <td>7688</td>\n",
              "      <td>0</td>\n",
              "      <td>40</td>\n",
              "      <td>&gt;50K.</td>\n",
              "      <td>private</td>\n",
              "      <td>some-college</td>\n",
              "      <td>married-civ-spouse</td>\n",
              "      <td>machine-op-inspct</td>\n",
              "      <td>husband</td>\n",
              "      <td>black</td>\n",
              "      <td>male</td>\n",
              "      <td>united-states</td>\n",
              "    </tr>\n",
              "    <tr>\n",
              "      <th>5</th>\n",
              "      <td>34</td>\n",
              "      <td>198693</td>\n",
              "      <td>6</td>\n",
              "      <td>0</td>\n",
              "      <td>0</td>\n",
              "      <td>30</td>\n",
              "      <td>&lt;=50K.</td>\n",
              "      <td>private</td>\n",
              "      <td>10th</td>\n",
              "      <td>never-married</td>\n",
              "      <td>other-service</td>\n",
              "      <td>not-in-family</td>\n",
              "      <td>white</td>\n",
              "      <td>male</td>\n",
              "      <td>united-states</td>\n",
              "    </tr>\n",
              "  </tbody>\n",
              "</table>\n",
              "</div>"
            ],
            "text/plain": [
              "   age  fnlwgt  education-num  ...  race_treated  sex_treated  native-country_treated\n",
              "0   25  226802              7  ...         black         male           united-states\n",
              "1   38   89814              9  ...         white         male           united-states\n",
              "2   28  336951             12  ...         white         male           united-states\n",
              "3   44  160323             10  ...         black         male           united-states\n",
              "5   34  198693              6  ...         white         male           united-states\n",
              "\n",
              "[5 rows x 15 columns]"
            ]
          },
          "metadata": {
            "tags": []
          }
        },
        {
          "output_type": "stream",
          "text": [
            "After removing all unknow data, the number of rown on test dataset is 15060.\n"
          ],
          "name": "stdout"
        }
      ]
    },
    {
      "cell_type": "markdown",
      "metadata": {
        "id": "tngT-kAk3n03"
      },
      "source": [
        "Again, this number of rows is precisely the number reported by authors on test set after unknown values remotion.\n",
        "The next step is to replot the EDA, now with cleaned data. The sweetviz permits an interactive visualization. The page was generated here and can be accessed on: "
      ]
    },
    {
      "cell_type": "code",
      "metadata": {
        "colab": {
          "base_uri": "https://localhost:8080/",
          "height": 352,
          "referenced_widgets": [
            "26709b0b4b9a40ccb57f961ce88b67d2",
            "2d889760ad5a4631af521b9fd1d203e9",
            "a28cf188c436480a876c514bf92b8c68",
            "e230f66f3caa495ab297c8bccdea65d4",
            "f5fd35fa00d34ace9fcb6a8c1830cc2a",
            "c219afa9d1d34f579571335a4b9d08e3",
            "ee12a6759bc244ef9c0b917113df1dd0",
            "72dcb4c6c2c54042aefeb444a0973b99",
            "2118f42ce1b54acb856dc6db7e93ae86",
            "69be6653e8fd4fa181ef09db42ae24ad",
            "24fba01b217a4fb5a84074e4cb717325"
          ]
        },
        "id": "_XNc3zlSAStQ",
        "outputId": "a69b58e5-7968-4d39-e3db-c67c86dc70c9"
      },
      "source": [
        "!pip install sweetviz\n",
        "import sweetviz as sv\n",
        "\n",
        "train_report = sv.analyze(train)\n",
        "\n",
        "train_report.show_html('train_report_after_first_cleaning.html')\n",
        "\n"
      ],
      "execution_count": null,
      "outputs": [
        {
          "output_type": "stream",
          "text": [
            "Requirement already satisfied: sweetviz in /usr/local/lib/python3.6/dist-packages (2.0.4)\n",
            "Requirement already satisfied: jinja2>=2.11.1 in /usr/local/lib/python3.6/dist-packages (from sweetviz) (2.11.2)\n",
            "Requirement already satisfied: importlib-resources>=1.2.0 in /usr/local/lib/python3.6/dist-packages (from sweetviz) (4.1.1)\n",
            "Requirement already satisfied: matplotlib>=3.1.3 in /usr/local/lib/python3.6/dist-packages (from sweetviz) (3.2.2)\n",
            "Requirement already satisfied: tqdm>=4.43.0 in /usr/local/lib/python3.6/dist-packages (from sweetviz) (4.56.0)\n",
            "Requirement already satisfied: numpy>=1.16.0 in /usr/local/lib/python3.6/dist-packages (from sweetviz) (1.19.5)\n",
            "Requirement already satisfied: pandas!=1.0.0,!=1.0.1,!=1.0.2,>=0.25.3 in /usr/local/lib/python3.6/dist-packages (from sweetviz) (1.1.5)\n",
            "Requirement already satisfied: scipy>=1.3.2 in /usr/local/lib/python3.6/dist-packages (from sweetviz) (1.4.1)\n",
            "Requirement already satisfied: MarkupSafe>=0.23 in /usr/local/lib/python3.6/dist-packages (from jinja2>=2.11.1->sweetviz) (1.1.1)\n",
            "Requirement already satisfied: zipp>=0.4; python_version < \"3.8\" in /usr/local/lib/python3.6/dist-packages (from importlib-resources>=1.2.0->sweetviz) (3.4.0)\n",
            "Requirement already satisfied: pyparsing!=2.0.4,!=2.1.2,!=2.1.6,>=2.0.1 in /usr/local/lib/python3.6/dist-packages (from matplotlib>=3.1.3->sweetviz) (2.4.7)\n",
            "Requirement already satisfied: cycler>=0.10 in /usr/local/lib/python3.6/dist-packages (from matplotlib>=3.1.3->sweetviz) (0.10.0)\n",
            "Requirement already satisfied: kiwisolver>=1.0.1 in /usr/local/lib/python3.6/dist-packages (from matplotlib>=3.1.3->sweetviz) (1.3.1)\n",
            "Requirement already satisfied: python-dateutil>=2.1 in /usr/local/lib/python3.6/dist-packages (from matplotlib>=3.1.3->sweetviz) (2.8.1)\n",
            "Requirement already satisfied: pytz>=2017.2 in /usr/local/lib/python3.6/dist-packages (from pandas!=1.0.0,!=1.0.1,!=1.0.2,>=0.25.3->sweetviz) (2018.9)\n",
            "Requirement already satisfied: six in /usr/local/lib/python3.6/dist-packages (from cycler>=0.10->matplotlib>=3.1.3->sweetviz) (1.15.0)\n"
          ],
          "name": "stdout"
        },
        {
          "output_type": "display_data",
          "data": {
            "application/vnd.jupyter.widget-view+json": {
              "model_id": "26709b0b4b9a40ccb57f961ce88b67d2",
              "version_minor": 0,
              "version_major": 2
            },
            "text/plain": [
              "                                             |          | [  0%]   00:00 -> (? left)"
            ]
          },
          "metadata": {
            "tags": []
          }
        },
        {
          "output_type": "stream",
          "text": [
            "Report train_report_after_first_cleaning.html was generated! NOTEBOOK/COLAB USERS: the web browser MAY not pop up, regardless, the report IS saved in your notebook/colab files.\n"
          ],
          "name": "stdout"
        }
      ]
    },
    {
      "cell_type": "markdown",
      "metadata": {
        "id": "S0m5VWP7M9JW"
      },
      "source": [
        "To see the generated html page, there are two ways:\n",
        "\n",
        "**Method 1** (with Download, totally interactive page)\n",
        "\n",
        "  1. Go to: https://github.com/amandaventurac/Income_predictor/blob/main/train_report_after_first_cleaning.html\n",
        "\n",
        "  2. Download the file.\n",
        "\n",
        "  3. Visualize the downloaded file with any browser.\n",
        "\n",
        "**Method 2** (wihtout Download, non interactive page)\n",
        "\n",
        " 1. Go to: https://github.com/amandaventurac/Income_predictor/blob/main/train_report_after_first_cleaning.html\n",
        "\n",
        " 2. Click on 'View raw', and copy the raw link\n",
        "\n",
        " 3. Run the code cell below.\n",
        "\n",
        " 4. Paste the raw link (with the token) in the indicated field and press enter.\n",
        "\n",
        " 5. Click on the printed link.\n",
        "\n",
        " * Please note that the token is valid within some minutes. If the HTML needs to be opened again, this process should be done again.\n",
        "\n"
      ]
    },
    {
      "cell_type": "code",
      "metadata": {
        "colab": {
          "base_uri": "https://localhost:8080/"
        },
        "id": "pQ3kBhnS86PJ",
        "outputId": "c7df5f5b-138e-451f-d3a8-90a47c5a61a7"
      },
      "source": [
        "display_html_system = 'https://htmlpreview.github.io/?'\n",
        "raw_page_link = input(\"Please paste here the raw link and press Enter\")\n",
        "complete_train_eda_link = display_html_system + raw_page_link\n",
        "print(complete_train_eda_link)"
      ],
      "execution_count": 7,
      "outputs": [
        {
          "output_type": "stream",
          "text": [
            "Please paste here the raw link and press Enterhttps://raw.githubusercontent.com/amandaventurac/Income_predictor/main/train_report_after_first_cleaning.html?token=AJ47KBXGARMMALIQJC2QH23AA3WSG\n",
            "https://htmlpreview.github.io/?https://raw.githubusercontent.com/amandaventurac/Income_predictor/main/train_report_after_first_cleaning.html?token=AJ47KBXGARMMALIQJC2QH23AA3WSG\n"
          ],
          "name": "stdout"
        }
      ]
    },
    {
      "cell_type": "markdown",
      "metadata": {
        "id": "zmMI4Dq9_Imx"
      },
      "source": [
        "The association (or correlation matrix) generated with sweetviz is posted here, if method 2 was chosen:\n",
        "![matrix.png](data:image/png;base64,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)"
      ]
    },
    {
      "cell_type": "markdown",
      "metadata": {
        "id": "2_uRCrNhKXeP"
      },
      "source": [
        "The trivial diagonal is left blank. The education-num, age, capita-gain, capital-loss, hours-per-week, education_treated, marital-status_treated,occupation_treated, relationship_treated and sex_treated columns impact more the income.\n",
        "\n",
        "Sweetviz also provides numerical information on this impact, for both categorical and numerical columns. The table is posted below. If the visualization method 1 was chosen, this information can be displayed on side bar when the income chart is clicked."
      ]
    }
  ]
}